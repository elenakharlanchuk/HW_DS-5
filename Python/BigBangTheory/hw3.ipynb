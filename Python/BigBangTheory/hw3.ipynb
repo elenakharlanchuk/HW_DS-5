{
 "cells": [
  {
   "cell_type": "markdown",
   "metadata": {},
   "source": [
    "# Домашняя работа №2"
   ]
  },
  {
   "cell_type": "code",
   "execution_count": 62,
   "metadata": {},
   "outputs": [],
   "source": [
    "import pandas as pd\n",
    "from scipy import stats as st\n",
    "import numpy as np\n",
    "import math\n",
    "\n",
    "import seaborn as sns\n",
    "from sklearn import datasets\n",
    "from matplotlib import pyplot as plt\n",
    "from statsmodels.distributions.empirical_distribution import ECDF"
   ]
  },
  {
   "cell_type": "markdown",
   "metadata": {},
   "source": [
    "## Генеральная совокупность и выборка"
   ]
  },
  {
   "cell_type": "markdown",
   "metadata": {},
   "source": [
    "- Чем отличается генеральная совокупность от выборки?"
   ]
  },
  {
   "cell_type": "code",
   "execution_count": null,
   "metadata": {},
   "outputs": [],
   "source": [
    "#your answer here\n",
    "# Генеральная совокупность- это весь существующий набор значенией для наших показателей\n",
    "# Выборка - случайно выбранная часть, содержащаяся в генеральной совокупности. Т.е. выборка меньше ген. совокупности."
   ]
  },
  {
   "cell_type": "markdown",
   "metadata": {},
   "source": [
    "- Если размер выборки больше 200, то такая выборка является репрезентативной?"
   ]
  },
  {
   "cell_type": "code",
   "execution_count": null,
   "metadata": {},
   "outputs": [],
   "source": [
    "#your answer here\n",
    "#ответ зависит от размера ген. совокупности и необходимой точности. На мой взгляд, такой размер выборки можно \n",
    "#считать репрезентативной"
   ]
  },
  {
   "cell_type": "markdown",
   "metadata": {},
   "source": [
    "- Измерили длину волос футболистов сборной Франции на ЧМ-2018. Что могло являться генеральной совокупностью? Приведите 3 примера."
   ]
  },
  {
   "cell_type": "code",
   "execution_count": null,
   "metadata": {},
   "outputs": [],
   "source": [
    "#your answer here\n",
    "#1) Длина волос всех футболистов Франции\n",
    "#2) Длина волос всех футболистов мира\n",
    "#3) Длина волос всех участников ЧМ-2018"
   ]
  },
  {
   "cell_type": "markdown",
   "metadata": {},
   "source": [
    "- Пусть генеральная совокупность --- вес детей, родившихся в Волгограде за последние 10 лет. Предложите 2 стратегии, как сгенерировать выборку."
   ]
  },
  {
   "cell_type": "code",
   "execution_count": null,
   "metadata": {},
   "outputs": [],
   "source": [
    "#your answer here\n",
    "#1) вес детей, родившихся в Волгограде в 2018 году (т.е. за последний год)\n",
    "# 2) взять всех детей, родившихся в Волгограде за последние 10 лет, при этом они родились 1 числа месяца"
   ]
  },
  {
   "cell_type": "markdown",
   "metadata": {},
   "source": [
    "## Параметры центра и разброса"
   ]
  },
  {
   "cell_type": "markdown",
   "metadata": {},
   "source": [
    "- Постройте распределение, у которого отсутствует мода.\n"
   ]
  },
  {
   "cell_type": "code",
   "execution_count": 8,
   "metadata": {},
   "outputs": [
    {
     "data": {
      "text/plain": [
       "Text(0.5, 0, '$x$')"
      ]
     },
     "execution_count": 8,
     "metadata": {},
     "output_type": "execute_result"
    },
    {
     "data": {
      "image/png": "[encoded data removed]",
      "text/plain": [
       "<Figure size 432x288 with 1 Axes>"
      ]
     },
     "metadata": {
      "needs_background": "light"
     },
     "output_type": "display_data"
    }
   ],
   "source": [
    "#your code here\n",
    "#это равномерное распределение\n",
    "uniform_rv = st.uniform(loc=-1, scale=2)\n",
    "sample=uniform_rv.rvs(100)\n",
    "x = np.linspace(2,20,21)\n",
    "cdf = uniform_rv.cdf(x) \n",
    "plt.plot(x, cdf)\n",
    "plt.ylabel('$F(x)$')\n",
    "plt.xlabel('$x$')"
   ]
  },
  {
   "cell_type": "markdown",
   "metadata": {},
   "source": [
    "- Какая из статистик (медиана, матожидание) будет наиболее неустойчивой при выбросах? Проверить на выборке из Гамма-распределения. "
   ]
  },
  {
   "cell_type": "code",
   "execution_count": 15,
   "metadata": {},
   "outputs": [],
   "source": [
    "#чувствительнее мат. ожидание"
   ]
  },
  {
   "cell_type": "code",
   "execution_count": null,
   "metadata": {},
   "outputs": [],
   "source": [
    "sample=gamma_rv.rvs(100)\n",
    "x = np.linspace(2,20,21)\n",
    "cdf = gamma_rv.cdf(x) \n",
    "plt.plot(x, cdf)"
   ]
  },
  {
   "cell_type": "code",
   "execution_count": 39,
   "metadata": {},
   "outputs": [
    {
     "name": "stdout",
     "output_type": "stream",
     "text": [
      "[3.36264829 8.15061486 3.72641372 2.9274797  1.71133055 7.13751106\n",
      " 5.41289293 4.31154277 2.26858294 4.93680844 4.32505565 2.84934588\n",
      " 2.51483718 2.93998261 2.42168921 4.09269253 2.48172953 6.37260036\n",
      " 1.77693342 4.68858617 4.89393144 5.59622174 6.70698324 5.68381575\n",
      " 4.32234294 4.85688199 5.16528    2.83793503 4.72851371 2.17995402\n",
      " 2.39909762 4.69062404 2.9653527  1.81324847 2.12390065 1.76766321\n",
      " 3.77277114 2.55895462 2.30901504 4.24581991 2.40606856 3.25658551\n",
      " 5.64604192 7.24246643 2.58694384 3.4758589  2.33334954 2.78386426\n",
      " 6.58721124 3.94529285 1.23753502]\n",
      "3.3626482881150297\n",
      "3.8338981001070414\n",
      "[336.26482881   8.15061486   3.72641372   2.9274797    1.71133055\n",
      "   7.13751106   5.41289293   4.31154277   2.26858294   4.93680844\n",
      "   4.32505565   2.84934588   2.51483718   2.93998261   2.42168921\n",
      "   4.09269253   2.48172953   6.37260036   1.77693342   4.68858617\n",
      "   4.89393144   5.59622174   6.70698324   5.68381575   4.32234294\n",
      "   4.85688199   5.16528      2.83793503   4.72851371   2.17995402\n",
      "   2.39909762   4.69062404   2.9653527    1.81324847   2.12390065\n",
      "   1.76766321   3.77277114   2.55895462   2.30901504   4.24581991\n",
      "   2.40606856   3.25658551   5.64604192   7.24246643   2.58694384\n",
      "   3.4758589    2.33334954   2.78386426   6.58721124   3.94529285\n",
      "   1.23753502]\n",
      "3.475858903168623\n",
      "10.361391835859747\n"
     ]
    }
   ],
   "source": [
    "gamma_rv = stats.gamma(3, 1)\n",
    "sample = gamma_rv.rvs(51)\n",
    "\n",
    "med = sorted(sample)[24]\n",
    "mean = sample.mean()\n",
    "print(sample)\n",
    "print(med)\n",
    "print(mean)\n",
    "\n",
    "#your code here\n",
    "\n",
    "sample_with_overshoot=sample\n",
    "sample_with_overshoot[0] = sample_with_overshoot[0]*100\n",
    "new_med =sorted(sample_with_overshoot)[24]\n",
    "new_mean = sample_with_overshoot.mean()\n",
    "print(sample_with_overshoot)\n",
    "print(new_med)\n",
    "print(new_mean)"
   ]
  },
  {
   "cell_type": "markdown",
   "metadata": {},
   "source": [
    "- Как изменится матожидание, если к выборке добавить константу $C$? Умножить на $C$. \n",
    "\n",
    "Проверите на выборке из распределения Пуассона"
   ]
  },
  {
   "cell_type": "code",
   "execution_count": 32,
   "metadata": {},
   "outputs": [
    {
     "name": "stdout",
     "output_type": "stream",
     "text": [
      "[3 2 2 2 3 4 1 5 1 1 1 2 2 2 7 3 2 1 1 1 1 1 4 1 4 4 3 3 3 5 4 2 0 1 2 0 2\n",
      " 3 3 1 3 2 1 2 2 4 1 2 1 1 4 7 6 2 2 3 1 2 3 1 3 1 3 1 1 7 2 5 2 1 2 1 3 2\n",
      " 1 2 1 1 2 2 1 2 2 2 2 2 4 1 1 2 1 2 4 2 1 2 1 4 2 1]\n",
      "2.25\n",
      "[3.5 2.5 2.5 2.5 3.5 4.5 1.5 5.5 1.5 1.5 1.5 2.5 2.5 2.5 7.5 3.5 2.5 1.5\n",
      " 1.5 1.5 1.5 1.5 4.5 1.5 4.5 4.5 3.5 3.5 3.5 5.5 4.5 2.5 0.5 1.5 2.5 0.5\n",
      " 2.5 3.5 3.5 1.5 3.5 2.5 1.5 2.5 2.5 4.5 1.5 2.5 1.5 1.5 4.5 7.5 6.5 2.5\n",
      " 2.5 3.5 1.5 2.5 3.5 1.5 3.5 1.5 3.5 1.5 1.5 7.5 2.5 5.5 2.5 1.5 2.5 1.5\n",
      " 3.5 2.5 1.5 2.5 1.5 1.5 2.5 2.5 1.5 2.5 2.5 2.5 2.5 2.5 4.5 1.5 1.5 2.5\n",
      " 1.5 2.5 4.5 2.5 1.5 2.5 1.5 4.5 2.5 1.5]\n",
      "2.75\n",
      "[1.5 1.  1.  1.  1.5 2.  0.5 2.5 0.5 0.5 0.5 1.  1.  1.  3.5 1.5 1.  0.5\n",
      " 0.5 0.5 0.5 0.5 2.  0.5 2.  2.  1.5 1.5 1.5 2.5 2.  1.  0.  0.5 1.  0.\n",
      " 1.  1.5 1.5 0.5 1.5 1.  0.5 1.  1.  2.  0.5 1.  0.5 0.5 2.  3.5 3.  1.\n",
      " 1.  1.5 0.5 1.  1.5 0.5 1.5 0.5 1.5 0.5 0.5 3.5 1.  2.5 1.  0.5 1.  0.5\n",
      " 1.5 1.  0.5 1.  0.5 0.5 1.  1.  0.5 1.  1.  1.  1.  1.  2.  0.5 0.5 1.\n",
      " 0.5 1.  2.  1.  0.5 1.  0.5 2.  1.  0.5]\n",
      "1.125\n"
     ]
    }
   ],
   "source": [
    "pois_rv = stats.poisson(2)\n",
    "n=100\n",
    "sample = pois_rv.rvs(n)\n",
    "C = 0.5\n",
    "#your code here\n",
    "mean = sample.mean()\n",
    "sample_with_c=np.array([sample[i]+C for i in range(n)])\n",
    "mean_with_c = sample_with_c.mean()\n",
    "sample_mult_c =np.array([sample[i]*C for i in range(n)])\n",
    "mean_mult_c =sample_mult_c.mean() \n",
    "print(sample)\n",
    "print(mean)\n",
    "print(sample_with_c)\n",
    "print(mean_with_c)\n",
    "print(sample_mult_c)\n",
    "print(mean_mult_c)\n",
    "#т.е. мат ожидание увеличится на С. Увеличится в С раз"
   ]
  },
  {
   "cell_type": "markdown",
   "metadata": {},
   "source": [
    "- Как изменится дисперсия при добавлении выбросов? Проверьте для распределения экспоненциального распределения"
   ]
  },
  {
   "cell_type": "code",
   "execution_count": 40,
   "metadata": {},
   "outputs": [
    {
     "name": "stdout",
     "output_type": "stream",
     "text": [
      "[4.02914125 5.75997031 5.67077556 4.67258791 4.58352885 4.44228424\n",
      " 5.58877004 5.56736708 7.04926763 4.13216064 5.09568171 7.95748028\n",
      " 7.09106786 5.30352927 5.71041436 5.16744085 4.73316935 6.79236091\n",
      " 4.22804215 4.29904721 4.62654925 6.57372064 4.13829801 9.70065527\n",
      " 4.7091737  4.20744794 4.87341148 4.93082765 4.44719963 5.84523151\n",
      " 5.10346931 4.79753212 6.19376557 4.03706775 6.38945723 8.51023653\n",
      " 4.05974455 4.8537537  5.63689641 5.3642243  4.05888842 4.12147319\n",
      " 8.55431716 4.24396696 6.54668315 4.56036043 4.47461049 4.24598115\n",
      " 7.09947325 5.58849062]\n",
      "1.727316205407899\n",
      "[402.914125     5.75997031   5.67077556   4.67258791   4.58352885\n",
      "   4.44228424   5.58877004   5.56736708   7.04926763   4.13216064\n",
      "   5.09568171   7.95748028   7.09106786   5.30352927   5.71041436\n",
      "   5.16744085   4.73316935   6.79236091   4.22804215   4.29904721\n",
      "   4.62654925   6.57372064   4.13829801   9.70065527   4.7091737\n",
      "   4.20744794   4.87341148   4.93082765   4.44719963   5.84523151\n",
      "   5.10346931   4.79753212   6.19376557   4.03706775   6.38945723\n",
      "   8.51023653   4.05974455   4.8537537    5.63689641   5.3642243\n",
      "   4.05888842   4.12147319   8.55431716   4.24396696   6.54668315\n",
      "   4.56036043   4.47461049   4.24598115   7.09947325   5.58849062]\n",
      "3098.2785195011293\n"
     ]
    }
   ],
   "source": [
    "#дисперсия увеличится\n",
    "exp_rv = stats.expon(4)\n",
    "sample = exp_rv.rvs(50)\n",
    "var = sample.var()\n",
    "print(sample)\n",
    "print(var)\n",
    "#your code here\n",
    "sample_with_overshoot=sample\n",
    "sample_with_overshoot[0] = sample_with_overshoot[0]*100\n",
    "new_var =sample_with_overshoot.var()\n",
    "\n",
    "print(sample_with_overshoot)\n",
    "print(new_var)\n"
   ]
  },
  {
   "cell_type": "code",
   "execution_count": 38,
   "metadata": {},
   "outputs": [
    {
     "name": "stdout",
     "output_type": "stream",
     "text": [
      "[696.79268607   4.02426406   5.25156147   6.17452847   7.04966231\n",
      "   8.68791987   4.12768482   4.41913243   4.82300772   6.63837464\n",
      "   5.71596099   5.25428597   4.16954187   4.83500946   5.70549315\n",
      "   5.53141637   5.10518718   4.94240666   5.73252572   5.46804111\n",
      "   4.92331184   5.03851565   6.40455038   4.11783823   4.52815906\n",
      "   4.11805978   4.36142006   4.03931419   7.08219186   4.41924648\n",
      "   4.41801994   4.68634067   5.47167393   5.20954552   5.73608181\n",
      "   7.99157571   4.14357981   6.54672381   4.75813328   4.51805727\n",
      "   5.48479449   5.10062545   5.78469167   5.0442231    8.1864139\n",
      "   4.21552761   5.49534631   7.1250875    7.23287545   4.91271588]\n",
      "1.321073064231808\n",
      "[696.79268607   4.02426406   5.25156147   6.17452847   7.04966231\n",
      "   8.68791987   4.12768482   4.41913243   4.82300772   6.63837464\n",
      "   5.71596099   5.25428597   4.16954187   4.83500946   5.70549315\n",
      "   5.53141637   5.10518718   4.94240666   5.73252572   5.46804111\n",
      "   4.92331184   5.03851565   6.40455038   4.11783823   4.52815906\n",
      "   4.11805978   4.36142006   4.03931419   7.08219186   4.41924648\n",
      "   4.41801994   4.68634067   5.47167393   5.20954552   5.73608181\n",
      "   7.99157571   4.14357981   6.54672381   4.75813328   4.51805727\n",
      "   5.48479449   5.10062545   5.78469167   5.0442231    8.1864139\n",
      "   4.21552761   5.49534631   7.1250875    7.23287545   4.91271588]\n",
      "9370.45714216375\n"
     ]
    }
   ],
   "source": [
    "exp_rv = stats.expon(4)\n",
    "sample = exp_rv.rvs(50)\n",
    "var = sample.var()\n",
    "\n",
    "#your code here\n",
    "sample_with_overshoot=sample\n",
    "sample_with_overshoot[0] = sample_with_overshoot[0]*100\n",
    "new_var =sample_with_overshoot.var()\n",
    "print(sample)\n",
    "print(var)\n",
    "print(sample_with_overshoot)\n",
    "print(new_var)"
   ]
  },
  {
   "cell_type": "markdown",
   "metadata": {},
   "source": [
    "- Что шире: интерквантильный размах ($X_{0.75} - X_{0.25}$) или $(\\bar{X}-s, \\bar{X}+s)$ для $\\mathcal{N}(a, \\sigma^2)$. Посчитайте и сравните эти интервалы для распредения $\\mathcal{N}(3,1)$"
   ]
  },
  {
   "cell_type": "code",
   "execution_count": 60,
   "metadata": {},
   "outputs": [
    {
     "name": "stdout",
     "output_type": "stream",
     "text": [
      "2.6979590007843264\n",
      "3.625970606961251\n"
     ]
    }
   ],
   "source": [
    "norm_rv = stats.norm(3,2)\n",
    "n=50\n",
    "sample = norm_rv.rvs(n)\n",
    "#your code here\n",
    "\n",
    "ppf_75=norm_rv.ppf(0.75)\n",
    "ppf_25=norm_rv.ppf(0.25)\n",
    "int_1=ppf_75-ppf_25\n",
    "#m=sum([sample[i] for i in range(n)])/n\n",
    "int_2= math.sqrt(sample.var())*2\n",
    "\n",
    "print(int_1)\n",
    "print(int_2)\n",
    "#шире второй интервал\n"
   ]
  },
  {
   "cell_type": "markdown",
   "metadata": {},
   "source": [
    "## Основные статистики и ЦПТ"
   ]
  },
  {
   "cell_type": "markdown",
   "metadata": {},
   "source": [
    "- Что такое статистика? Посчитайте любую для бета-распределения (1,3)"
   ]
  },
  {
   "cell_type": "code",
   "execution_count": 64,
   "metadata": {},
   "outputs": [
    {
     "name": "stdout",
     "output_type": "stream",
     "text": [
      "[0.1181161  0.04556286 0.02788271 0.3269392  0.02642127 0.14922295\n",
      " 0.05566252 0.39436423 0.08416341 0.26699623 0.25850983 0.34913306\n",
      " 0.00874484 0.11264146 0.02861976 0.05746785 0.46650715 0.14198422\n",
      " 0.1625197  0.26703229 0.17700753 0.00281523 0.25429823 0.16951203\n",
      " 0.30163752 0.26566989 0.08343139 0.25774878 0.12516864 0.19236001\n",
      " 0.08994921 0.08584824 0.60597107 0.54959644 0.23689663 0.53296997\n",
      " 0.20033241 0.02187183 0.52186607 0.0119301  0.0828197  0.10076404\n",
      " 0.03712274 0.59721417 0.24227804 0.08204435 0.05537569 0.52980664\n",
      " 0.60813774 0.04085707 0.11055372 0.56056284 0.63270493 0.30989848\n",
      " 0.36331868 0.49865449 0.00716198 0.46107464 0.24351729 0.21508735\n",
      " 0.28534897 0.2532719  0.0970803  0.45782215 0.06705764 0.25032947\n",
      " 0.07606419 0.20818826 0.50087043 0.72027875 0.01945338 0.19206628\n",
      " 0.19171714 0.27544227 0.04342036 0.27896612 0.45927593 0.41566095\n",
      " 0.11713701 0.25804502 0.2238277  0.06078965 0.71600677 0.71004663\n",
      " 0.35354296 0.53700825 0.11990611 0.14273664 0.57260818 0.05231855\n",
      " 0.53812175 0.28376755 0.33537654 0.10095196 0.40962903 0.58297917\n",
      " 0.2543246  0.06614869 0.35381021 0.28713708]\n",
      "0.25682861950753555\n"
     ]
    }
   ],
   "source": [
    "#Статистика представляет собой количественную характеристику исследуемых параметров,\n",
    "#характеризующих распределение случайной величины, полученную на основе исследования выборочных значений. \n",
    "#Статистика используется либо для описания самой выборки, либо, что имеет первостепенное значение в \n",
    "#фундаментальных экспериментальных исследованиях, \n",
    "#для оценки параметров распределения случайной величины в исследуемой генеральной совокупности\n",
    "beta_rv = stats.beta(1,3)\n",
    "n=100\n",
    "sample = beta_rv.rvs(n)\n",
    "#your code here\n",
    "#посчитаем мат. ожидание\n",
    "mean = sample.mean()\n",
    "print(sample)\n",
    "print(mean)"
   ]
  },
  {
   "cell_type": "markdown",
   "metadata": {},
   "source": [
    "- Какие статистики являются оценками матожидания, медианы и дисперсии? Посчитайте их для гамма-распределения с параметрами (2, 2)"
   ]
  },
  {
   "cell_type": "code",
   "execution_count": 67,
   "metadata": {},
   "outputs": [
    {
     "name": "stdout",
     "output_type": "stream",
     "text": [
      "[3.98944076 2.77962648 2.93457994 4.16131917 4.49547489 3.10366837\n",
      " 2.78767494 4.49767463 4.98012538 3.49941909 4.21839903 2.18180988\n",
      " 4.10161591 6.16050341 4.9490874  2.28416516 2.2828877  2.31805657\n",
      " 4.96965828 2.8530091  5.65482182 3.03621828 4.62776435 2.18749995\n",
      " 3.2875661  2.43366307 3.12961558 3.40878443 2.49874488 5.86704635\n",
      " 2.26589582 4.40864106 5.13631411 3.02946938 9.38670347 9.01388464\n",
      " 2.66970444 3.27219141 4.16803657 5.14461644 3.04508783 2.86371996\n",
      " 3.82292685 4.06387548 2.15836001 2.98080119 5.41765897 2.82993198\n",
      " 3.30259965 3.921032   2.42454798 4.40559516 2.52201425 4.25957911\n",
      " 3.98485609 4.54373025 2.98719787 4.27655146 4.18720381 3.95627433\n",
      " 4.45756696 3.72995042 3.35428306 3.82691551 6.0094334  3.98477254\n",
      " 6.67844682 2.66661163 4.39818888 3.11468963 4.44926103 3.4873184\n",
      " 2.27513217 3.36206165 2.45160478 4.61393208 4.55199267 4.04480824\n",
      " 3.52506364 3.16042255 3.09323799 6.5993944  4.43454468 2.84914363\n",
      " 7.94565478 7.20766625 5.84132619 7.2997758  3.49491344 2.27111053\n",
      " 4.89350609 4.10570463 2.6954989  2.81282904 5.17820001 2.2802021\n",
      " 3.75195094 6.20818143 6.15188152 3.89695827]\n",
      "4.0128305917687355\n",
      "2.1658809889153123\n",
      "3.896958266903199\n"
     ]
    }
   ],
   "source": [
    "gamma_rv = stats.gamma(2,2)\n",
    "n=100\n",
    "sample = gamma_rv.rvs(n)\n",
    "#your code here\n",
    "mean =sample.mean()\n",
    "var =sample.var()\n",
    "med =sorted(sample)[50]\n",
    "print(sample)\n",
    "print(mean)\n",
    "print(var)\n",
    "print(med)"
   ]
  },
  {
   "cell_type": "markdown",
   "metadata": {},
   "source": [
    "- Какое распределение имеет $\\bar{X}$ по ЦПТ? Если исходное распределение $\\mathcal{N}(5, 2)$. Сгенерировать выборки размером 50 из этого распределения и проверить. (построить распределение средних)"
   ]
  },
  {
   "cell_type": "code",
   "execution_count": 88,
   "metadata": {},
   "outputs": [
    {
     "name": "stdout",
     "output_type": "stream",
     "text": [
      "5.0004713067660544\n",
      "0.08067716075292201\n",
      "0.08\n"
     ]
    }
   ],
   "source": [
    "#имеет нормальное распределение\n",
    "#your code here\n",
    "norm_rv = stats.norm(5,2)\n",
    "n=10000\n",
    "#mean_array=[]\n",
    "mean_array = np.array(np.zeros(n))\n",
    "for i in range(n):\n",
    "    sample = norm_rv.rvs(50)\n",
    "    #your code here\n",
    "    mean_array[i] =sample.mean()\n",
    "#print(mean_array)\n",
    "mean_array_mean=mean_array.mean()\n",
    "mean_array_var=mean_array.var()\n",
    "print(mean_array_mean)\n",
    "print(mean_array_var)\n",
    "var_theory=2**2/50\n",
    "print(var_theory)"
   ]
  },
  {
   "cell_type": "markdown",
   "metadata": {},
   "source": [
    "- Сгенерируйте выборки так, чтобы ЦПТ не выполнялось (распределение средних не было похоже нормальное)"
   ]
  },
  {
   "cell_type": "code",
   "execution_count": 87,
   "metadata": {},
   "outputs": [
    {
     "name": "stdout",
     "output_type": "stream",
     "text": [
      "4.999909988466816\n",
      "0.4084097474674063\n",
      "0.08\n"
     ]
    }
   ],
   "source": [
    "#берем выборки меньше 30, например, из 10 элементов\n",
    "norm_rv = stats.norm(5,2)\n",
    "n=10000\n",
    "#mean_array=[]\n",
    "mean_array = np.array(np.zeros(n))\n",
    "for i in range(n):\n",
    "    sample = norm_rv.rvs(10)\n",
    "    #your code here\n",
    "    mean_array[i] =sample.mean()\n",
    "#print(mean_array)\n",
    "mean_array_mean=mean_array.mean()\n",
    "mean_array_var=mean_array.var()\n",
    "print(mean_array_mean)\n",
    "print(mean_array_var)\n",
    "var_theory=2**2/50\n",
    "print(var_theory)\n",
    "\n",
    "\n"
   ]
  },
  {
   "cell_type": "markdown",
   "metadata": {},
   "source": [
    "- Сделайте z-преобразование для данного распределения и посчитайте новое матожидание и дисперсию "
   ]
  },
  {
   "cell_type": "code",
   "execution_count": 92,
   "metadata": {},
   "outputs": [
    {
     "name": "stdout",
     "output_type": "stream",
     "text": [
      "3.879224632582528\n",
      "0.7072454825998985\n",
      "1.2233269952588443e-16\n",
      "1.0000000000000002\n"
     ]
    }
   ],
   "source": [
    "expon_rv = stats.expon(3)\n",
    "sample=expon_rv.rvs(100)\n",
    "mean=sample.mean()\n",
    "var=sample.var()\n",
    "sigma=math.sqrt(var)\n",
    "print(mean)\n",
    "print(var)\n",
    "for i in range(100):\n",
    "    sample[i]=(sample[i]-mean)/sigma\n",
    "#new_rv = #your code here\n",
    "new_mean=sample.mean()\n",
    "new_var=sample.var()\n",
    "print(new_mean)\n",
    "print(new_var)"
   ]
  },
  {
   "cell_type": "markdown",
   "metadata": {},
   "source": [
    "## Доверительные интервалы и гипотезы"
   ]
  },
  {
   "cell_type": "markdown",
   "metadata": {},
   "source": [
    "В данных задачах используйте встроенную функцию, позволяющую искать квантили случайной величины **your_rv**.ppf, а также https://gallery.shinyapps.io/dist_calc/ для визуальной картины"
   ]
  },
  {
   "cell_type": "markdown",
   "metadata": {},
   "source": [
    "- Постройте 90% доверительный интервал для среднего значения $\\mathcal{\\chi^2_{10}}$."
   ]
  },
  {
   "cell_type": "code",
   "execution_count": null,
   "metadata": {},
   "outputs": [],
   "source": [
    "#your code here\n"
   ]
  },
  {
   "cell_type": "markdown",
   "metadata": {},
   "source": [
    "- Постройте ДИ для распределения Стьюдента с df = 15 уровня доверия 90%  и 95%. Какой интервал шире?"
   ]
  },
  {
   "cell_type": "code",
   "execution_count": null,
   "metadata": {},
   "outputs": [],
   "source": [
    "#your code here"
   ]
  },
  {
   "cell_type": "markdown",
   "metadata": {},
   "source": [
    "- Сгенерируйте 2 выборки с одинаковыми параметрами, отличающиеся в 2 раза по размеру. Постройте 2 90% ДИ. Чем они отличаются? Распределение $\\mathcal{N}(0,2)$ "
   ]
  },
  {
   "cell_type": "code",
   "execution_count": null,
   "metadata": {},
   "outputs": [],
   "source": [
    "norm_rv = stats.norm(0, 2)\n",
    "#your code here"
   ]
  },
  {
   "cell_type": "markdown",
   "metadata": {},
   "source": [
    "- Пусть $H_0: M=100$. Мы получили $p = 0,12$ и не смогли отклонить нулевую гипотезу. Однако позже выяснилось, что среднее в генеральной совокупности равняется 114. Ошибку какого рода мы допустили?"
   ]
  },
  {
   "cell_type": "code",
   "execution_count": null,
   "metadata": {},
   "outputs": [],
   "source": [
    "#your answer here"
   ]
  },
  {
   "cell_type": "markdown",
   "metadata": {},
   "source": [
    "#### Какие рассуждения относительно p-value верные?\n",
    "\n",
    "- Елси p уровень значимости равен 0,003, то вероятность того, что верна нулевая гипотеза также равняется  0,003.\n",
    "- Если бы в исследовании мы получили $p=0,9$, это означало бы, что верна нулевая гипотеза.\n",
    "- Чем меньше p уровень значимости, тем хуже гипотеза.\n"
   ]
  },
  {
   "cell_type": "code",
   "execution_count": null,
   "metadata": {},
   "outputs": [],
   "source": [
    "#your answer here"
   ]
  },
  {
   "cell_type": "markdown",
   "metadata": {},
   "source": [
    "- Какое $p$-value будете использовать, если отклонять $H_0$ рисковано: $0.05$ или $0.01$? Является ли 99% доверительный интервал хорошей оценкой в общем случае?"
   ]
  },
  {
   "cell_type": "code",
   "execution_count": null,
   "metadata": {},
   "outputs": [],
   "source": [
    "#your answer here"
   ]
  },
  {
   "cell_type": "markdown",
   "metadata": {},
   "source": [
    "## Стьюдент и корреляция"
   ]
  },
  {
   "cell_type": "markdown",
   "metadata": {},
   "source": [
    "- Изобразите графики плотности распределения Стьюдента для нескольких значений df= (5,10, 20, 40) и $\\mathcal{N}(0,1)$. В чем отличия?"
   ]
  },
  {
   "cell_type": "code",
   "execution_count": null,
   "metadata": {},
   "outputs": [],
   "source": [
    "#your code here"
   ]
  },
  {
   "cell_type": "markdown",
   "metadata": {},
   "source": [
    "- Постройте две выборки, чтобы их корреляция была равна -1. Изобразите зависимость на графике."
   ]
  },
  {
   "cell_type": "code",
   "execution_count": null,
   "metadata": {},
   "outputs": [],
   "source": [
    "#your code here"
   ]
  },
  {
   "cell_type": "markdown",
   "metadata": {},
   "source": [
    "- Постройте две выборки, чтобы их корреляция была равна 0. Изобразите зависимость на графике."
   ]
  },
  {
   "cell_type": "code",
   "execution_count": null,
   "metadata": {},
   "outputs": [],
   "source": [
    "#your code here"
   ]
  },
  {
   "cell_type": "markdown",
   "metadata": {},
   "source": [
    "- Сгенерируйте 2 выборки из $\\mathcal{N}(4,2)$, посчитайте их общий ранг и сумму рангов в каждой выборке."
   ]
  },
  {
   "cell_type": "code",
   "execution_count": null,
   "metadata": {},
   "outputs": [],
   "source": [
    "norm_rv = stats.norm(4,2)\n",
    "sample_1 = norm_rv.rvs(100)\n",
    "sample_2 = norm_rv.rvs(100)\n",
    "sample = np.concatenate((sample_1, sample_2))\n",
    "\n",
    "#your code here"
   ]
  },
  {
   "cell_type": "code",
   "execution_count": null,
   "metadata": {},
   "outputs": [],
   "source": []
  }
 ],
 "metadata": {
  "kernelspec": {
   "display_name": "Python 3",
   "language": "python",
   "name": "python3"
  },
  "language_info": {
   "codemirror_mode": {
    "name": "ipython",
    "version": 3
   },
   "file_extension": ".py",
   "mimetype": "text/x-python",
   "name": "python",
   "nbconvert_exporter": "python",
   "pygments_lexer": "ipython3",
   "version": "3.7.1"
  }
 },
 "nbformat": 4,
 "nbformat_minor": 2
}
