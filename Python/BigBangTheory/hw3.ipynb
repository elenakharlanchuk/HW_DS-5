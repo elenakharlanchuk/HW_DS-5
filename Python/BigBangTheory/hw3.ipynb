{
 "cells": [
  {
   "cell_type": "markdown",
   "metadata": {},
   "source": [
    "# Домашняя работа №3"
   ]
  },
  {
   "cell_type": "code",
   "execution_count": 5,
   "metadata": {},
   "outputs": [],
   "source": [
    "import pandas as pd\n",
    "from scipy import stats as st\n",
    "import numpy as np\n",
    "import math\n",
    "\n",
    "import seaborn as sns\n",
    "from sklearn import datasets\n",
    "from matplotlib import pyplot as plt\n",
    "from statsmodels.distributions.empirical_distribution import ECDF"
   ]
  },
  {
   "cell_type": "markdown",
   "metadata": {},
   "source": [
    "## Генеральная совокупность и выборка"
   ]
  },
  {
   "cell_type": "markdown",
   "metadata": {},
   "source": [
    "- Чем отличается генеральная совокупность от выборки?"
   ]
  },
  {
   "cell_type": "code",
   "execution_count": null,
   "metadata": {},
   "outputs": [],
   "source": [
    "#your answer here\n",
    "# Генеральная совокупность- это весь существующий набор значенией для наших показателей\n",
    "# Выборка - случайно выбранная часть, содержащаяся в генеральной совокупности. Т.е. выборка меньше ген. совокупности."
   ]
  },
  {
   "cell_type": "markdown",
   "metadata": {},
   "source": [
    "- Если размер выборки больше 200, то такая выборка является репрезентативной?"
   ]
  },
  {
   "cell_type": "code",
   "execution_count": null,
   "metadata": {},
   "outputs": [],
   "source": [
    "#your answer here\n",
    "#ответ зависит от размера ген. совокупности и необходимой точности. На мой взгляд, такой размер выборки можно \n",
    "#считать репрезентативной"
   ]
  },
  {
   "cell_type": "markdown",
   "metadata": {},
   "source": [
    "- Измерили длину волос футболистов сборной Франции на ЧМ-2018. Что могло являться генеральной совокупностью? Приведите 3 примера."
   ]
  },
  {
   "cell_type": "code",
   "execution_count": null,
   "metadata": {},
   "outputs": [],
   "source": [
    "#your answer here\n",
    "#1) Длина волос всех футболистов Франции\n",
    "#2) Длина волос всех футболистов мира\n",
    "#3) Длина волос всех участников ЧМ-2018"
   ]
  },
  {
   "cell_type": "markdown",
   "metadata": {},
   "source": [
    "- Пусть генеральная совокупность --- вес детей, родившихся в Волгограде за последние 10 лет. Предложите 2 стратегии, как сгенерировать выборку."
   ]
  },
  {
   "cell_type": "code",
   "execution_count": null,
   "metadata": {},
   "outputs": [],
   "source": [
    "#your answer here\n",
    "#1) вес детей, родившихся в Волгограде в 2018 году (т.е. за последний год)\n",
    "# 2) взять всех детей, родившихся в Волгограде за последние 10 лет, при этом они родились 1 числа месяца"
   ]
  },
  {
   "cell_type": "markdown",
   "metadata": {},
   "source": [
    "## Параметры центра и разброса"
   ]
  },
  {
   "cell_type": "markdown",
   "metadata": {},
   "source": [
    "- Постройте распределение, у которого отсутствует мода.\n"
   ]
  },
  {
   "cell_type": "code",
   "execution_count": 6,
   "metadata": {},
   "outputs": [
    {
     "data": {
      "text/plain": [
       "Text(0.5, 0, '$x$')"
      ]
     },
     "execution_count": 6,
     "metadata": {},
     "output_type": "execute_result"
    },
    {
     "data": {
      "image/png": "[encoded data removed]",
      "text/plain": [
       "<Figure size 432x288 with 1 Axes>"
      ]
     },
     "metadata": {
      "needs_background": "light"
     },
     "output_type": "display_data"
    }
   ],
   "source": [
    "#your code here\n",
    "#это равномерное распределение\n",
    "uniform_rv = st.uniform(loc=-1, scale=2)\n",
    "sample=uniform_rv.rvs(100)\n",
    "x = np.linspace(2,20,21)\n",
    "cdf = uniform_rv.cdf(x) \n",
    "plt.plot(x, cdf)\n",
    "plt.ylabel('$F(x)$')\n",
    "plt.xlabel('$x$')"
   ]
  },
  {
   "cell_type": "markdown",
   "metadata": {},
   "source": [
    "- Какая из статистик (медиана, матожидание) будет наиболее неустойчивой при выбросах? Проверить на выборке из Гамма-распределения. "
   ]
  },
  {
   "cell_type": "code",
   "execution_count": 15,
   "metadata": {},
   "outputs": [],
   "source": [
    "#чувствительнее мат. ожидание"
   ]
  },
  {
   "cell_type": "code",
   "execution_count": null,
   "metadata": {},
   "outputs": [],
   "source": [
    "sample=gamma_rv.rvs(100)\n",
    "x = np.linspace(2,20,21)\n",
    "cdf = gamma_rv.cdf(x) \n",
    "plt.plot(x, cdf)"
   ]
  },
  {
   "cell_type": "code",
   "execution_count": 8,
   "metadata": {},
   "outputs": [
    {
     "name": "stdout",
     "output_type": "stream",
     "text": [
      "[2.51675927 5.40945087 1.80531198 5.29835632 1.93361405 4.3331739\n",
      " 6.88446556 1.99318901 5.10543718 1.92988881 4.70350315 2.75458273\n",
      " 3.87103472 3.74185341 2.16951011 5.92122776 4.78305586 2.54876842\n",
      " 6.01376582 6.73252174 5.10979401 3.6526886  2.62389449 3.00018438\n",
      " 2.34715994 4.45114781 2.15477178 4.37745683 9.33611959 2.34237491\n",
      " 6.49528435 2.88037174 4.15042603 2.60588491 5.99555514 5.58563132\n",
      " 2.85584427 2.53341502 3.41284897 3.20101271 2.67990304 1.75766452\n",
      " 7.7727548  4.37757284 3.26698425 2.48865826 3.33746033 4.95762875\n",
      " 4.45642189 8.45032734 3.62860254]\n",
      "3.6286025407290854\n",
      "4.053633648851227\n",
      "[251.67592713   5.40945087   1.80531198   5.29835632   1.93361405\n",
      "   4.3331739    6.88446556   1.99318901   5.10543718   1.92988881\n",
      "   4.70350315   2.75458273   3.87103472   3.74185341   2.16951011\n",
      "   5.92122776   4.78305586   2.54876842   6.01376582   6.73252174\n",
      "   5.10979401   3.6526886    2.62389449   3.00018438   2.34715994\n",
      "   4.45114781   2.15477178   4.37745683   9.33611959   2.34237491\n",
      "   6.49528435   2.88037174   4.15042603   2.60588491   5.99555514\n",
      "   5.58563132   2.85584427   2.53341502   3.41284897   3.20101271\n",
      "   2.67990304   1.75766452   7.7727548    4.37757284   3.26698425\n",
      "   2.48865826   3.33746033   4.95762875   4.45642189   8.45032734\n",
      "   3.62860254]\n",
      "3.6526886033596835\n",
      "8.939107528404831\n"
     ]
    }
   ],
   "source": [
    "gamma_rv = st.gamma(3, 1)\n",
    "sample = gamma_rv.rvs(51)\n",
    "\n",
    "med = sorted(sample)[24]\n",
    "mean = sample.mean()\n",
    "print(sample)\n",
    "print(med)\n",
    "print(mean)\n",
    "\n",
    "#your code here\n",
    "\n",
    "sample_with_overshoot=sample\n",
    "sample_with_overshoot[0] = sample_with_overshoot[0]*100\n",
    "new_med =sorted(sample_with_overshoot)[24]\n",
    "new_mean = sample_with_overshoot.mean()\n",
    "print(sample_with_overshoot)\n",
    "print(new_med)\n",
    "print(new_mean)"
   ]
  },
  {
   "cell_type": "markdown",
   "metadata": {},
   "source": [
    "- Как изменится матожидание, если к выборке добавить константу $C$? Умножить на $C$. \n",
    "\n",
    "Проверите на выборке из распределения Пуассона"
   ]
  },
  {
   "cell_type": "code",
   "execution_count": 9,
   "metadata": {},
   "outputs": [
    {
     "name": "stdout",
     "output_type": "stream",
     "text": [
      "[3 4 0 1 1 2 3 2 2 1 4 2 3 1 3 3 2 4 1 5 0 3 1 3 1 1 2 1 5 1 2 1 2 2 1 1 4\n",
      " 2 4 4 2 0 3 3 2 1 1 0 4 1 1 0 0 1 2 1 3 1 0 1 1 1 6 5 1 2 0 0 2 1 3 2 1 3\n",
      " 2 4 1 0 0 3 3 2 2 3 2 2 2 0 0 0 5 2 2 1 4 1 0 2 0 3]\n",
      "1.89\n",
      "[3.5 4.5 0.5 1.5 1.5 2.5 3.5 2.5 2.5 1.5 4.5 2.5 3.5 1.5 3.5 3.5 2.5 4.5\n",
      " 1.5 5.5 0.5 3.5 1.5 3.5 1.5 1.5 2.5 1.5 5.5 1.5 2.5 1.5 2.5 2.5 1.5 1.5\n",
      " 4.5 2.5 4.5 4.5 2.5 0.5 3.5 3.5 2.5 1.5 1.5 0.5 4.5 1.5 1.5 0.5 0.5 1.5\n",
      " 2.5 1.5 3.5 1.5 0.5 1.5 1.5 1.5 6.5 5.5 1.5 2.5 0.5 0.5 2.5 1.5 3.5 2.5\n",
      " 1.5 3.5 2.5 4.5 1.5 0.5 0.5 3.5 3.5 2.5 2.5 3.5 2.5 2.5 2.5 0.5 0.5 0.5\n",
      " 5.5 2.5 2.5 1.5 4.5 1.5 0.5 2.5 0.5 3.5]\n",
      "2.39\n",
      "[1.5 2.  0.  0.5 0.5 1.  1.5 1.  1.  0.5 2.  1.  1.5 0.5 1.5 1.5 1.  2.\n",
      " 0.5 2.5 0.  1.5 0.5 1.5 0.5 0.5 1.  0.5 2.5 0.5 1.  0.5 1.  1.  0.5 0.5\n",
      " 2.  1.  2.  2.  1.  0.  1.5 1.5 1.  0.5 0.5 0.  2.  0.5 0.5 0.  0.  0.5\n",
      " 1.  0.5 1.5 0.5 0.  0.5 0.5 0.5 3.  2.5 0.5 1.  0.  0.  1.  0.5 1.5 1.\n",
      " 0.5 1.5 1.  2.  0.5 0.  0.  1.5 1.5 1.  1.  1.5 1.  1.  1.  0.  0.  0.\n",
      " 2.5 1.  1.  0.5 2.  0.5 0.  1.  0.  1.5]\n",
      "0.945\n"
     ]
    }
   ],
   "source": [
    "pois_rv = st.poisson(2)\n",
    "n=100\n",
    "sample = pois_rv.rvs(n)\n",
    "C = 0.5\n",
    "#your code here\n",
    "mean = sample.mean()\n",
    "sample_with_c=np.array([sample[i]+C for i in range(n)])\n",
    "mean_with_c = sample_with_c.mean()\n",
    "sample_mult_c =np.array([sample[i]*C for i in range(n)])\n",
    "mean_mult_c =sample_mult_c.mean() \n",
    "print(sample)\n",
    "print(mean)\n",
    "print(sample_with_c)\n",
    "print(mean_with_c)\n",
    "print(sample_mult_c)\n",
    "print(mean_mult_c)\n",
    "#т.е. мат ожидание увеличится на С. Увеличится в С раз"
   ]
  },
  {
   "cell_type": "markdown",
   "metadata": {},
   "source": [
    "- Как изменится дисперсия при добавлении выбросов? Проверьте для распределения экспоненциального распределения"
   ]
  },
  {
   "cell_type": "code",
   "execution_count": 10,
   "metadata": {},
   "outputs": [
    {
     "name": "stdout",
     "output_type": "stream",
     "text": [
      "[ 6.07478631  4.22432928  5.39242699  4.78068545  4.80241937  4.63479582\n",
      "  4.14684487  6.66476886  4.32491125  7.51308905  4.51440035  4.00917197\n",
      "  5.5837414   4.83124383  4.24983745  5.60289187  4.49117161  5.587396\n",
      "  4.31743893  4.26938681  4.17937149  5.40936541  6.70505683  5.17097777\n",
      "  4.1609898   4.73519922  8.52452761  4.57733129  4.73183465  7.01445995\n",
      "  4.79511045  5.45428634  5.06055519  4.02432519 10.26425298  5.17959317\n",
      "  4.57574319 10.96594428  6.6525446   5.40905127  4.68087834  5.59657292\n",
      "  5.26962787  4.68625404  4.00033121  4.63739163  4.6342857   5.11352681\n",
      "  4.18451071  9.36834758]\n",
      "2.3850163033205543\n",
      "[607.47863097   4.22432928   5.39242699   4.78068545   4.80241937\n",
      "   4.63479582   4.14684487   6.66476886   4.32491125   7.51308905\n",
      "   4.51440035   4.00917197   5.5837414    4.83124383   4.24983745\n",
      "   5.60289187   4.49117161   5.587396     4.31743893   4.26938681\n",
      "   4.17937149   5.40936541   6.70505683   5.17097777   4.1609898\n",
      "   4.73519922   8.52452761   4.57733129   4.73183465   7.01445995\n",
      "   4.79511045   5.45428634   5.06055519   4.02432519  10.26425298\n",
      "   5.17959317   4.57574319  10.96594428   6.6525446    5.40905127\n",
      "   4.68087834   5.59657292   5.26962787   4.68625404   4.00033121\n",
      "   4.63739163   4.6342857    5.11352681   4.18451071   9.36834758]\n",
      "7107.781649813092\n"
     ]
    }
   ],
   "source": [
    "#дисперсия увеличится\n",
    "exp_rv = st.expon(4)\n",
    "sample = exp_rv.rvs(50)\n",
    "var = sample.var()\n",
    "print(sample)\n",
    "print(var)\n",
    "#your code here\n",
    "sample_with_overshoot=sample\n",
    "sample_with_overshoot[0] = sample_with_overshoot[0]*100\n",
    "new_var =sample_with_overshoot.var()\n",
    "\n",
    "print(sample_with_overshoot)\n",
    "print(new_var)\n"
   ]
  },
  {
   "cell_type": "code",
   "execution_count": 11,
   "metadata": {},
   "outputs": [
    {
     "name": "stdout",
     "output_type": "stream",
     "text": [
      "[497.0205245    4.07344279   4.06806695   6.38768808   9.42749766\n",
      "   5.15866362   4.00065892   4.31667489   5.08912737   4.67719063\n",
      "   4.34129169   4.63833145   4.79756249   4.8027099    5.43246826\n",
      "   4.55278212   5.04387069   4.77462405  10.29396906   6.32624832\n",
      "   4.58357513   4.9753521    4.98423646   5.14902146   4.30237035\n",
      "   4.86769192   6.51152493   4.60650089   5.24546058   4.12496351\n",
      "   5.54464754   5.29914709   7.2387194    5.92982901   5.17294775\n",
      "   4.4943556    4.80129115   6.36963123   5.59081848   5.5930674\n",
      "   4.77008842   4.77370777   6.63109038   5.22879517   4.2156816\n",
      "   6.11647111   4.24843536   4.17392166   6.96603063   6.42633366]\n",
      "1.5098954465062788\n",
      "[497.0205245    4.07344279   4.06806695   6.38768808   9.42749766\n",
      "   5.15866362   4.00065892   4.31667489   5.08912737   4.67719063\n",
      "   4.34129169   4.63833145   4.79756249   4.8027099    5.43246826\n",
      "   4.55278212   5.04387069   4.77462405  10.29396906   6.32624832\n",
      "   4.58357513   4.9753521    4.98423646   5.14902146   4.30237035\n",
      "   4.86769192   6.51152493   4.60650089   5.24546058   4.12496351\n",
      "   5.54464754   5.29914709   7.2387194    5.92982901   5.17294775\n",
      "   4.4943556    4.80129115   6.36963123   5.59081848   5.5930674\n",
      "   4.77008842   4.77370777   6.63109038   5.22879517   4.2156816\n",
      "   6.11647111   4.24843536   4.17392166   6.96603063   6.42633366]\n",
      "4740.007336673473\n"
     ]
    }
   ],
   "source": [
    "exp_rv = st.expon(4)\n",
    "sample = exp_rv.rvs(50)\n",
    "var = sample.var()\n",
    "\n",
    "#your code here\n",
    "sample_with_overshoot=sample\n",
    "sample_with_overshoot[0] = sample_with_overshoot[0]*100\n",
    "new_var =sample_with_overshoot.var()\n",
    "print(sample)\n",
    "print(var)\n",
    "print(sample_with_overshoot)\n",
    "print(new_var)"
   ]
  },
  {
   "cell_type": "markdown",
   "metadata": {},
   "source": [
    "- Что шире: интерквантильный размах ($X_{0.75} - X_{0.25}$) или $(\\bar{X}-s, \\bar{X}+s)$ для $\\mathcal{N}(a, \\sigma^2)$. Посчитайте и сравните эти интервалы для распредения $\\mathcal{N}(3,1)$"
   ]
  },
  {
   "cell_type": "code",
   "execution_count": 12,
   "metadata": {},
   "outputs": [
    {
     "name": "stdout",
     "output_type": "stream",
     "text": [
      "2.6979590007843264\n",
      "3.193847327343376\n"
     ]
    }
   ],
   "source": [
    "norm_rv = st.norm(3,2)\n",
    "n=50\n",
    "sample = norm_rv.rvs(n)\n",
    "#your code here\n",
    "\n",
    "ppf_75=norm_rv.ppf(0.75)\n",
    "ppf_25=norm_rv.ppf(0.25)\n",
    "int_1=ppf_75-ppf_25\n",
    "#m=sum([sample[i] for i in range(n)])/n\n",
    "int_2= math.sqrt(sample.var())*2\n",
    "\n",
    "print(int_1)\n",
    "print(int_2)\n",
    "#шире второй интервал\n"
   ]
  },
  {
   "cell_type": "markdown",
   "metadata": {},
   "source": [
    "## Основные статистики и ЦПТ"
   ]
  },
  {
   "cell_type": "markdown",
   "metadata": {},
   "source": [
    "- Что такое статистика? Посчитайте любую для бета-распределения (1,3)"
   ]
  },
  {
   "cell_type": "code",
   "execution_count": 13,
   "metadata": {},
   "outputs": [
    {
     "name": "stdout",
     "output_type": "stream",
     "text": [
      "[0.43572704 0.31832449 0.28897837 0.33196191 0.01015813 0.17490844\n",
      " 0.27485439 0.59317646 0.21428496 0.44515897 0.7187098  0.03761079\n",
      " 0.01977113 0.20276427 0.68862993 0.14478467 0.01732958 0.03784642\n",
      " 0.2767209  0.26159497 0.00524757 0.04208808 0.05736468 0.0595886\n",
      " 0.06147118 0.14194907 0.30798924 0.32889642 0.19337138 0.29188029\n",
      " 0.03581338 0.08380222 0.34591401 0.46648195 0.35635406 0.0246156\n",
      " 0.46511042 0.20371264 0.20623574 0.01094847 0.09737057 0.3697388\n",
      " 0.07999723 0.29400878 0.29283952 0.15395628 0.00523811 0.20886173\n",
      " 0.30828793 0.34710538 0.03317946 0.46109139 0.05857528 0.04610316\n",
      " 0.18055563 0.15962567 0.47647871 0.50521845 0.046194   0.0729152\n",
      " 0.30950761 0.20233383 0.1455623  0.21108627 0.22063579 0.09314633\n",
      " 0.06601761 0.04480633 0.45861788 0.17747799 0.02894396 0.65254239\n",
      " 0.09860648 0.11040065 0.0411486  0.37812424 0.32822938 0.0309801\n",
      " 0.14253868 0.6559186  0.19269216 0.28472395 0.15930608 0.05619936\n",
      " 0.382301   0.07380333 0.14445463 0.55280585 0.61900777 0.30880829\n",
      " 0.3694851  0.27231759 0.19841711 0.63448385 0.3290019  0.08305047\n",
      " 0.16529482 0.03505353 0.32432691 0.20586515]\n",
      "0.23167495766245205\n"
     ]
    }
   ],
   "source": [
    "#Статистика представляет собой количественную характеристику исследуемых параметров,\n",
    "#характеризующих распределение случайной величины, полученную на основе исследования выборочных значений. \n",
    "#Статистика используется либо для описания самой выборки, либо, что имеет первостепенное значение в \n",
    "#фундаментальных экспериментальных исследованиях, \n",
    "#для оценки параметров распределения случайной величины в исследуемой генеральной совокупности\n",
    "beta_rv = st.beta(1,3)\n",
    "n=100\n",
    "sample = beta_rv.rvs(n)\n",
    "#your code here\n",
    "#посчитаем мат. ожидание\n",
    "mean = sample.mean()\n",
    "print(sample)\n",
    "print(mean)"
   ]
  },
  {
   "cell_type": "markdown",
   "metadata": {},
   "source": [
    "- Какие статистики являются оценками матожидания, медианы и дисперсии? Посчитайте их для гамма-распределения с параметрами (2, 2)"
   ]
  },
  {
   "cell_type": "code",
   "execution_count": 14,
   "metadata": {},
   "outputs": [
    {
     "name": "stdout",
     "output_type": "stream",
     "text": [
      "[2.53414926 3.67674501 4.12132345 3.57620129 5.98957665 6.99397604\n",
      " 3.05675171 3.35168444 2.76601283 2.27647223 6.93518194 4.1892443\n",
      " 3.01806613 3.55782998 2.50562468 5.75249734 2.80275576 2.56271487\n",
      " 3.69173027 3.79729397 3.76776462 2.91473001 2.1270397  2.45453471\n",
      " 3.81539276 6.83621227 2.91937085 4.57389535 2.5140735  3.01062676\n",
      " 2.5992928  3.95309213 3.10079748 3.66436585 4.48190319 2.68736679\n",
      " 3.40316385 6.24621563 3.94014943 2.9948617  2.22790632 3.09408857\n",
      " 4.72127231 4.73225292 4.0636238  2.79269104 4.3672947  5.85131762\n",
      " 2.48803265 3.16308887 3.09165023 2.10148463 3.06148302 2.59665738\n",
      " 5.02428346 5.37779134 3.35447734 2.81712413 2.79230239 5.46847998\n",
      " 3.75741401 3.51953933 5.40501249 5.56941934 4.0094105  4.15077733\n",
      " 2.38895391 3.99404747 3.35518895 4.00254341 3.67905288 5.66573031\n",
      " 7.39608348 4.60410687 2.19113497 4.09993471 5.12225603 5.40811634\n",
      " 2.91339426 4.31476031 3.68310771 2.17498559 4.00526919 3.84670954\n",
      " 3.93437272 2.47065038 2.19823787 3.86444119 3.7778804  3.83986022\n",
      " 4.42869918 4.12745427 3.05980837 2.65717018 4.30595029 5.64490631\n",
      " 3.07910703 4.61432235 4.44224241 3.14766   ]\n",
      "3.811976963061105\n",
      "1.4353321802131418\n",
      "3.6917302747164795\n"
     ]
    }
   ],
   "source": [
    "gamma_rv = st.gamma(2,2)\n",
    "n=100\n",
    "sample = gamma_rv.rvs(n)\n",
    "#your code here\n",
    "mean =sample.mean()\n",
    "var =sample.var()\n",
    "med =sorted(sample)[50]\n",
    "print(sample)\n",
    "print(mean)\n",
    "print(var)\n",
    "print(med)"
   ]
  },
  {
   "cell_type": "markdown",
   "metadata": {},
   "source": [
    "- Какое распределение имеет $\\bar{X}$ по ЦПТ? Если исходное распределение $\\mathcal{N}(5, 2)$. Сгенерировать выборки размером 50 из этого распределения и проверить. (построить распределение средних)"
   ]
  },
  {
   "cell_type": "code",
   "execution_count": 15,
   "metadata": {},
   "outputs": [
    {
     "name": "stdout",
     "output_type": "stream",
     "text": [
      "4.99765931849247\n",
      "0.07954798921606435\n",
      "0.08\n"
     ]
    }
   ],
   "source": [
    "#имеет нормальное распределение\n",
    "#your code here\n",
    "norm_rv = st.norm(5,2)\n",
    "n=10000\n",
    "#mean_array=[]\n",
    "mean_array = np.array(np.zeros(n))\n",
    "for i in range(n):\n",
    "    sample = norm_rv.rvs(50)\n",
    "    #your code here\n",
    "    mean_array[i] =sample.mean()\n",
    "#print(mean_array)\n",
    "mean_array_mean=mean_array.mean()\n",
    "mean_array_var=mean_array.var()\n",
    "print(mean_array_mean)\n",
    "print(mean_array_var)\n",
    "var_theory=2**2/50\n",
    "print(var_theory)"
   ]
  },
  {
   "cell_type": "markdown",
   "metadata": {},
   "source": [
    "- Сгенерируйте выборки так, чтобы ЦПТ не выполнялось (распределение средних не было похоже нормальное)"
   ]
  },
  {
   "cell_type": "code",
   "execution_count": 16,
   "metadata": {},
   "outputs": [
    {
     "name": "stdout",
     "output_type": "stream",
     "text": [
      "4.9893224252355255\n",
      "0.40220114387267725\n",
      "0.08\n"
     ]
    }
   ],
   "source": [
    "#берем выборки меньше 30, например, из 10 элементов\n",
    "norm_rv = st.norm(5,2)\n",
    "n=10000\n",
    "#mean_array=[]\n",
    "mean_array = np.array(np.zeros(n))\n",
    "for i in range(n):\n",
    "    sample = norm_rv.rvs(10)\n",
    "    #your code here\n",
    "    mean_array[i] =sample.mean()\n",
    "#print(mean_array)\n",
    "mean_array_mean=mean_array.mean()\n",
    "mean_array_var=mean_array.var()\n",
    "print(mean_array_mean)\n",
    "print(mean_array_var)\n",
    "var_theory=2**2/50\n",
    "print(var_theory)\n",
    "\n",
    "\n"
   ]
  },
  {
   "cell_type": "markdown",
   "metadata": {},
   "source": [
    "- Сделайте z-преобразование для данного распределения и посчитайте новое матожидание и дисперсию "
   ]
  },
  {
   "cell_type": "code",
   "execution_count": 17,
   "metadata": {},
   "outputs": [
    {
     "name": "stdout",
     "output_type": "stream",
     "text": [
      "3.910565532396137\n",
      "0.5825960408676126\n",
      "-3.558264793923627e-16\n",
      "1.0\n"
     ]
    }
   ],
   "source": [
    "expon_rv = st.expon(3)\n",
    "sample=expon_rv.rvs(100)\n",
    "mean=sample.mean()\n",
    "var=sample.var()\n",
    "sigma=math.sqrt(var)\n",
    "print(mean)\n",
    "print(var)\n",
    "for i in range(100):\n",
    "    sample[i]=(sample[i]-mean)/sigma\n",
    "#new_rv = #your code here\n",
    "new_mean=sample.mean()\n",
    "new_var=sample.var()\n",
    "print(new_mean)\n",
    "print(new_var)"
   ]
  },
  {
   "cell_type": "markdown",
   "metadata": {},
   "source": [
    "## Доверительные интервалы и гипотезы"
   ]
  },
  {
   "cell_type": "markdown",
   "metadata": {},
   "source": [
    "В данных задачах используйте встроенную функцию, позволяющую искать квантили случайной величины **your_rv**.ppf, а также https://gallery.shinyapps.io/dist_calc/ для визуальной картины"
   ]
  },
  {
   "cell_type": "markdown",
   "metadata": {},
   "source": [
    "- Постройте 90% доверительный интервал для среднего значения $\\mathcal{\\chi^2_{10}}$."
   ]
  },
  {
   "cell_type": "code",
   "execution_count": 20,
   "metadata": {},
   "outputs": [
    {
     "name": "stdout",
     "output_type": "stream",
     "text": [
      "15.987179172105263\n"
     ]
    }
   ],
   "source": [
    "#your code here\n",
    "chi2_rv = st.chi2(10)\n",
    "sample=chi2_rv.rvs(100)\n",
    "ppf_90=chi2_rv.ppf(0.9)\n",
    "print(ppf_90)\n"
   ]
  },
  {
   "cell_type": "markdown",
   "metadata": {},
   "source": [
    "- Постройте ДИ для распределения Стьюдента с df = 15 уровня доверия 90%  и 95%. Какой интервал шире?"
   ]
  },
  {
   "cell_type": "code",
   "execution_count": 25,
   "metadata": {},
   "outputs": [
    {
     "name": "stdout",
     "output_type": "stream",
     "text": [
      "3.50610071138511\n",
      "4.262899091118646\n"
     ]
    }
   ],
   "source": [
    "#your code here\n",
    "t_rv = st.t(15)\n",
    "sample=t_rv.rvs(100)\n",
    "ppf_5=t_rv.ppf(0.05)\n",
    "ppf_95=t_rv.ppf(0.95)\n",
    "ppf_2_5=t_rv.ppf(0.025)\n",
    "ppf_97_5=t_rv.ppf(0.975)\n",
    "print(ppf_95-ppf_5)\n",
    "print(ppf_97_5-ppf_2_5)\n",
    "#второй шире"
   ]
  },
  {
   "cell_type": "markdown",
   "metadata": {},
   "source": [
    "- Сгенерируйте 2 выборки с одинаковыми параметрами, отличающиеся в 2 раза по размеру. Постройте 2 90% ДИ. Чем они отличаются? Распределение $\\mathcal{N}(0,2)$ "
   ]
  },
  {
   "cell_type": "code",
   "execution_count": 26,
   "metadata": {},
   "outputs": [
    {
     "name": "stdout",
     "output_type": "stream",
     "text": [
      "11.766743643917478\n",
      "12.069961220994875\n"
     ]
    }
   ],
   "source": [
    "norm_rv = st.norm(0, 2)\n",
    "sample1=norm_rv.rvs(100)\n",
    "sample2=norm_rv.rvs(200)\n",
    "var1=sample1.var()\n",
    "sigma1=math.sqrt(var1)\n",
    "var2=sample2.var()\n",
    "sigma2=math.sqrt(var2)\n",
    "ppf_5=norm_rv.ppf(0.05)\n",
    "ppf_95=norm_rv.ppf(0.95)\n",
    "print((ppf_95-ppf_5)*sigma1)\n",
    "print((ppf_95-ppf_5)*sigma2)\n",
    "#дисперсия больше у выборки, которая больше. ДИ у второй выборки больше"
   ]
  },
  {
   "cell_type": "markdown",
   "metadata": {},
   "source": [
    "- Пусть $H_0: M=100$. Мы получили $p = 0,12$ и не смогли отклонить нулевую гипотезу. Однако позже выяснилось, что среднее в генеральной совокупности равняется 114. Ошибку какого рода мы допустили?"
   ]
  },
  {
   "cell_type": "code",
   "execution_count": null,
   "metadata": {},
   "outputs": [],
   "source": [
    "#your answer here\n",
    "#ошибка второго рода. Приняли невернут нулевую гипотезу."
   ]
  },
  {
   "cell_type": "markdown",
   "metadata": {},
   "source": [
    "#### Какие рассуждения относительно p-value верные?\n",
    "\n",
    "- Елси p уровень значимости равен 0,003, то вероятность того, что верна нулевая гипотеза также равняется  0,003.\n",
    "- Если бы в исследовании мы получили $p=0,9$, это означало бы, что верна нулевая гипотеза.\n",
    "- Чем меньше p уровень значимости, тем хуже гипотеза.\n"
   ]
  },
  {
   "cell_type": "code",
   "execution_count": null,
   "metadata": {},
   "outputs": [],
   "source": [
    "#your answer here\n",
    "#1-ое верно\n",
    "#2-зависит от заданного уровня значимости\n",
    "#3-неверное утверждение"
   ]
  },
  {
   "cell_type": "markdown",
   "metadata": {},
   "source": [
    "- Какое $p$-value будете использовать, если отклонять $H_0$ рисковано: $0.05$ или $0.01$? Является ли 99% доверительный интервал хорошей оценкой в общем случае?"
   ]
  },
  {
   "cell_type": "code",
   "execution_count": null,
   "metadata": {},
   "outputs": [],
   "source": [
    "#your answer here\n",
    "#p=0.01\n",
    "#да"
   ]
  },
  {
   "cell_type": "markdown",
   "metadata": {},
   "source": [
    "## Стьюдент и корреляция"
   ]
  },
  {
   "cell_type": "markdown",
   "metadata": {},
   "source": [
    "- Изобразите графики плотности распределения Стьюдента для нескольких значений df= (5,10, 20, 40) и $\\mathcal{N}(0,1)$. В чем отличия?"
   ]
  },
  {
   "cell_type": "code",
   "execution_count": null,
   "metadata": {},
   "outputs": [],
   "source": [
    "#your code here"
   ]
  },
  {
   "cell_type": "markdown",
   "metadata": {},
   "source": [
    "- Постройте две выборки, чтобы их корреляция была равна -1. Изобразите зависимость на графике."
   ]
  },
  {
   "cell_type": "code",
   "execution_count": null,
   "metadata": {},
   "outputs": [],
   "source": [
    "#your code here"
   ]
  },
  {
   "cell_type": "markdown",
   "metadata": {},
   "source": [
    "- Постройте две выборки, чтобы их корреляция была равна 0. Изобразите зависимость на графике."
   ]
  },
  {
   "cell_type": "code",
   "execution_count": null,
   "metadata": {},
   "outputs": [],
   "source": [
    "#your code here"
   ]
  },
  {
   "cell_type": "markdown",
   "metadata": {},
   "source": [
    "- Сгенерируйте 2 выборки из $\\mathcal{N}(4,2)$, посчитайте их общий ранг и сумму рангов в каждой выборке."
   ]
  },
  {
   "cell_type": "code",
   "execution_count": null,
   "metadata": {},
   "outputs": [],
   "source": [
    "norm_rv = stats.norm(4,2)\n",
    "sample_1 = norm_rv.rvs(100)\n",
    "sample_2 = norm_rv.rvs(100)\n",
    "sample = np.concatenate((sample_1, sample_2))\n",
    "\n",
    "#your code here"
   ]
  },
  {
   "cell_type": "code",
   "execution_count": null,
   "metadata": {},
   "outputs": [],
   "source": []
  }
 ],
 "metadata": {
  "kernelspec": {
   "display_name": "Python 3",
   "language": "python",
   "name": "python3"
  },
  "language_info": {
   "codemirror_mode": {
    "name": "ipython",
    "version": 3
   },
   "file_extension": ".py",
   "mimetype": "text/x-python",
   "name": "python",
   "nbconvert_exporter": "python",
   "pygments_lexer": "ipython3",
   "version": "3.7.1"
  }
 },
 "nbformat": 4,
 "nbformat_minor": 2
}
