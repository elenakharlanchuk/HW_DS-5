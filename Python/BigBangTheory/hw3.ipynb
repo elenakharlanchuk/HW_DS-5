{
 "cells": [
  {
   "cell_type": "markdown",
   "metadata": {},
   "source": [
    "# Домашняя работа №3"
   ]
  },
  {
   "cell_type": "code",
   "execution_count": 2,
   "metadata": {},
   "outputs": [],
   "source": [
    "import pandas as pd\n",
    "from scipy import stats as st\n",
    "import numpy as np\n",
    "import math\n",
    "\n",
    "import seaborn as sns\n",
    "from sklearn import datasets\n",
    "from matplotlib import pyplot as plt\n",
    "from statsmodels.distributions.empirical_distribution import ECDF"
   ]
  },
  {
   "cell_type": "markdown",
   "metadata": {},
   "source": [
    "## Генеральная совокупность и выборка"
   ]
  },
  {
   "cell_type": "markdown",
   "metadata": {},
   "source": [
    "- Чем отличается генеральная совокупность от выборки?"
   ]
  },
  {
   "cell_type": "code",
   "execution_count": null,
   "metadata": {},
   "outputs": [],
   "source": [
    "#your answer here\n",
    "# Генеральная совокупность- это весь существующий набор значенией для наших показателей\n",
    "# Выборка - случайно выбранная часть, содержащаяся в генеральной совокупности. Т.е. выборка меньше ген. совокупности."
   ]
  },
  {
   "cell_type": "markdown",
   "metadata": {},
   "source": [
    "- Если размер выборки больше 200, то такая выборка является репрезентативной?"
   ]
  },
  {
   "cell_type": "code",
   "execution_count": null,
   "metadata": {},
   "outputs": [],
   "source": [
    "#your answer here\n",
    "#ответ зависит от размера ген. совокупности и необходимой точности. На мой взгляд, такой размер выборки можно \n",
    "#считать репрезентативной"
   ]
  },
  {
   "cell_type": "markdown",
   "metadata": {},
   "source": [
    "- Измерили длину волос футболистов сборной Франции на ЧМ-2018. Что могло являться генеральной совокупностью? Приведите 3 примера."
   ]
  },
  {
   "cell_type": "code",
   "execution_count": null,
   "metadata": {},
   "outputs": [],
   "source": [
    "#your answer here\n",
    "#1) Длина волос всех футболистов Франции\n",
    "#2) Длина волос всех футболистов мира\n",
    "#3) Длина волос всех участников ЧМ-2018"
   ]
  },
  {
   "cell_type": "markdown",
   "metadata": {},
   "source": [
    "- Пусть генеральная совокупность --- вес детей, родившихся в Волгограде за последние 10 лет. Предложите 2 стратегии, как сгенерировать выборку."
   ]
  },
  {
   "cell_type": "code",
   "execution_count": null,
   "metadata": {},
   "outputs": [],
   "source": [
    "#your answer here\n",
    "#1) вес детей, родившихся в Волгограде в 2018 году (т.е. за последний год)\n",
    "# 2) взять всех детей, родившихся в Волгограде за последние 10 лет, при этом они родились 1 числа месяца"
   ]
  },
  {
   "cell_type": "markdown",
   "metadata": {},
   "source": [
    "## Параметры центра и разброса"
   ]
  },
  {
   "cell_type": "markdown",
   "metadata": {},
   "source": [
    "- Постройте распределение, у которого отсутствует мода.\n"
   ]
  },
  {
   "cell_type": "code",
   "execution_count": 2,
   "metadata": {},
   "outputs": [
    {
     "data": {
      "text/plain": [
       "Text(0.5,0,'$x$')"
      ]
     },
     "execution_count": 2,
     "metadata": {},
     "output_type": "execute_result"
    },
    {
     "data": {
      "image/png": "[encoded data removed]",
      "text/plain": [
       "<Figure size 432x288 with 1 Axes>"
      ]
     },
     "metadata": {
      "needs_background": "light"
     },
     "output_type": "display_data"
    }
   ],
   "source": [
    "#your code here\n",
    "#это равномерное распределение\n",
    "uniform_rv = st.uniform(loc=-1, scale=2)\n",
    "sample=uniform_rv.rvs(100)\n",
    "x = np.linspace(2,20,21)\n",
    "pdf = uniform_rv.pdf(x) \n",
    "plt.plot(x, pdf)\n",
    "plt.ylabel('$f(x)$')\n",
    "plt.xlabel('$x$')"
   ]
  },
  {
   "cell_type": "markdown",
   "metadata": {},
   "source": [
    "- Какая из статистик (медиана, матожидание) будет наиболее неустойчивой при выбросах? Проверить на выборке из Гамма-распределения. "
   ]
  },
  {
   "cell_type": "code",
   "execution_count": 15,
   "metadata": {},
   "outputs": [],
   "source": [
    "#чувствительнее мат. ожидание"
   ]
  },
  {
   "cell_type": "code",
   "execution_count": null,
   "metadata": {},
   "outputs": [],
   "source": [
    "sample=gamma_rv.rvs(100)\n",
    "x = np.linspace(2,20,21)\n",
    "cdf = gamma_rv.cdf(x) \n",
    "plt.plot(x, cdf)"
   ]
  },
  {
   "cell_type": "code",
   "execution_count": 9,
   "metadata": {},
   "outputs": [
    {
     "name": "stdout",
     "output_type": "stream",
     "text": [
      "sample= [2.90039684 2.01502489 5.90704907 2.74026543 4.69433091 1.94091578\n",
      " 2.59923085 3.76307047 3.98372834 6.4118782  7.19908807 2.08059297\n",
      " 2.95336539 8.80180589 4.158189   4.8894874  6.52098436 5.84681436\n",
      " 2.31620324 2.48701969 5.71005727 2.82558369 5.52057315 2.64138348\n",
      " 5.38048678 4.60060083 2.44599284 2.86694422 3.55955916 4.58250771\n",
      " 3.0984161  1.30507604 6.43780228 3.83186532 3.88776387 3.38162493\n",
      " 7.98988531 2.31580671 2.49069796 3.21100112 1.51406088 3.64159387\n",
      " 5.77049329 3.2870258  5.18686392 4.04869627 5.83083254 3.19500345\n",
      " 3.32598629 2.20526309 3.3608019 ]\n",
      "med= 3.3816249349613168\n",
      "mean= 3.9933272782829135\n",
      "sample_with_overshoot = [290.03968399   2.01502489   5.90704907   2.74026543   4.69433091\n",
      "   1.94091578   2.59923085   3.76307047   3.98372834   6.4118782\n",
      "   7.19908807   2.08059297   2.95336539   8.80180589   4.158189\n",
      "   4.8894874    6.52098436   5.84681436   2.31620324   2.48701969\n",
      "   5.71005727   2.82558369   5.52057315   2.64138348   5.38048678\n",
      "   4.60060083   2.44599284   2.86694422   3.55955916   4.58250771\n",
      "   3.0984161    1.30507604   6.43780228   3.83186532   3.88776387\n",
      "   3.38162493   7.98988531   2.31580671   2.49069796   3.21100112\n",
      "   1.51406088   3.64159387   5.77049329   3.2870258    5.18686392\n",
      "   4.04869627   5.83083254   3.19500345   3.32598629   2.20526309\n",
      "   3.3608019 ]\n",
      "new_med = 3.5595591589739883\n",
      "new_mean = 9.623509379328027\n"
     ]
    }
   ],
   "source": [
    "gamma_rv = st.gamma(3, 1)\n",
    "sample = gamma_rv.rvs(51)\n",
    "\n",
    "med = sorted(sample)[24]\n",
    "mean = sample.mean()\n",
    "print(\"sample=\", sample)\n",
    "print(\"med=\", med)\n",
    "print(\"mean=\", mean)\n",
    "\n",
    "#your code here\n",
    "\n",
    "sample_with_overshoot=sample\n",
    "sample_with_overshoot[0] = sample_with_overshoot[0]*100\n",
    "new_med =sorted(sample_with_overshoot)[24]\n",
    "new_mean = sample_with_overshoot.mean()\n",
    "print(\"sample_with_overshoot =\", sample_with_overshoot)\n",
    "print(\"new_med =\", new_med)\n",
    "print(\"new_mean =\", new_mean)\n"
   ]
  },
  {
   "cell_type": "markdown",
   "metadata": {},
   "source": [
    "- Как изменится матожидание, если к выборке добавить константу $C$? Умножить на $C$. \n",
    "\n",
    "Проверите на выборке из распределения Пуассона"
   ]
  },
  {
   "cell_type": "code",
   "execution_count": 10,
   "metadata": {},
   "outputs": [
    {
     "name": "stdout",
     "output_type": "stream",
     "text": [
      "sample= [2 2 4 2 1 2 2 2 0 1 2 1 2 0 1 1 1 4 2 2 3 3 3 2 0 1 1 3 1 0 0 2 2 3 2 1 2\n",
      " 1 0 1 1 1 1 2 0 2 0 1 1 0 1 2 3 2 4 1 1 0 0 2 5 0 1 1 1 0 1 3 1 3 1 2 3 2\n",
      " 1 0 2 2 5 1 2 2 6 2 2 4 1 2 5 2 3 3 2 3 3 6 3 1 2 2]\n",
      "mean= 1.81\n",
      "sample_with_c= [2.5 2.5 4.5 2.5 1.5 2.5 2.5 2.5 0.5 1.5 2.5 1.5 2.5 0.5 1.5 1.5 1.5 4.5\n",
      " 2.5 2.5 3.5 3.5 3.5 2.5 0.5 1.5 1.5 3.5 1.5 0.5 0.5 2.5 2.5 3.5 2.5 1.5\n",
      " 2.5 1.5 0.5 1.5 1.5 1.5 1.5 2.5 0.5 2.5 0.5 1.5 1.5 0.5 1.5 2.5 3.5 2.5\n",
      " 4.5 1.5 1.5 0.5 0.5 2.5 5.5 0.5 1.5 1.5 1.5 0.5 1.5 3.5 1.5 3.5 1.5 2.5\n",
      " 3.5 2.5 1.5 0.5 2.5 2.5 5.5 1.5 2.5 2.5 6.5 2.5 2.5 4.5 1.5 2.5 5.5 2.5\n",
      " 3.5 3.5 2.5 3.5 3.5 6.5 3.5 1.5 2.5 2.5]\n",
      "mean_with_c= 2.31\n",
      "sample_mult_c= [1.  1.  2.  1.  0.5 1.  1.  1.  0.  0.5 1.  0.5 1.  0.  0.5 0.5 0.5 2.\n",
      " 1.  1.  1.5 1.5 1.5 1.  0.  0.5 0.5 1.5 0.5 0.  0.  1.  1.  1.5 1.  0.5\n",
      " 1.  0.5 0.  0.5 0.5 0.5 0.5 1.  0.  1.  0.  0.5 0.5 0.  0.5 1.  1.5 1.\n",
      " 2.  0.5 0.5 0.  0.  1.  2.5 0.  0.5 0.5 0.5 0.  0.5 1.5 0.5 1.5 0.5 1.\n",
      " 1.5 1.  0.5 0.  1.  1.  2.5 0.5 1.  1.  3.  1.  1.  2.  0.5 1.  2.5 1.\n",
      " 1.5 1.5 1.  1.5 1.5 3.  1.5 0.5 1.  1. ]\n",
      "mean_mult_c= 0.905\n"
     ]
    }
   ],
   "source": [
    "pois_rv = st.poisson(2)\n",
    "n=100\n",
    "sample = pois_rv.rvs(n)\n",
    "C = 0.5\n",
    "#your code here\n",
    "mean = sample.mean()\n",
    "sample_with_c=np.array([sample[i]+C for i in range(n)])\n",
    "mean_with_c = sample_with_c.mean()\n",
    "sample_mult_c =np.array([sample[i]*C for i in range(n)])\n",
    "mean_mult_c =sample_mult_c.mean() \n",
    "print(\"sample=\", sample)\n",
    "print(\"mean=\", mean)\n",
    "print(\"sample_with_c=\", sample_with_c)\n",
    "print(\"mean_with_c=\", mean_with_c)\n",
    "print(\"sample_mult_c=\", sample_mult_c)\n",
    "print(\"mean_mult_c=\", mean_mult_c)\n",
    "#т.е. мат ожидание увеличится на С. Увеличится в С раз"
   ]
  },
  {
   "cell_type": "markdown",
   "metadata": {},
   "source": [
    "- Как изменится дисперсия при добавлении выбросов? Проверьте для распределения экспоненциального распределения"
   ]
  },
  {
   "cell_type": "code",
   "execution_count": 12,
   "metadata": {},
   "outputs": [
    {
     "name": "stdout",
     "output_type": "stream",
     "text": [
      "sample= [4.66013942 4.58678372 4.66085082 4.38102675 4.48827834 4.50681722\n",
      " 4.40376376 4.31968103 7.22992749 5.6871124  5.38930762 5.63743376\n",
      " 4.80231349 6.10012733 4.46075273 5.18583826 4.16274433 4.70334721\n",
      " 5.06553169 4.18294739 4.39967249 5.36292776 4.05093585 4.8486591\n",
      " 8.05992937 8.51798256 4.22445582 6.58224617 5.74755826 6.96775302\n",
      " 5.19839808 5.78502243 4.73791376 5.27252833 4.80544633 4.0644381\n",
      " 5.03337773 4.25445265 4.85720617 5.44954527 6.08352931 4.80388024\n",
      " 6.02029566 4.02951138 7.20012224 4.66241754 4.60334432 5.19208753\n",
      " 4.59148968 6.49190185]\n",
      "var= 1.0570806271104216\n",
      "sample_with_overshoot= [466.01394152   4.58678372   4.66085082   4.38102675   4.48827834\n",
      "   4.50681722   4.40376376   4.31968103   7.22992749   5.6871124\n",
      "   5.38930762   5.63743376   4.80231349   6.10012733   4.46075273\n",
      "   5.18583826   4.16274433   4.70334721   5.06553169   4.18294739\n",
      "   4.39967249   5.36292776   4.05093585   4.8486591    8.05992937\n",
      "   8.51798256   4.22445582   6.58224617   5.74755826   6.96775302\n",
      "   5.19839808   5.78502243   4.73791376   5.27252833   4.80544633\n",
      "   4.0644381    5.03337773   4.25445265   4.85720617   5.44954527\n",
      "   6.08352931   4.80388024   6.02029566   4.02951138   7.20012224\n",
      "   4.66241754   4.60334432   5.19208753   4.59148968   6.49190185]\n",
      "new_var= 4162.712475616599\n"
     ]
    }
   ],
   "source": [
    "#дисперсия увеличится\n",
    "exp_rv = st.expon(4)\n",
    "sample = exp_rv.rvs(50)\n",
    "var = sample.var()\n",
    "print(\"sample=\",sample)\n",
    "print(\"var=\", var)\n",
    "#your code here\n",
    "sample_with_overshoot=sample\n",
    "sample_with_overshoot[0] = sample_with_overshoot[0]*100\n",
    "new_var =sample_with_overshoot.var()\n",
    "\n",
    "print(\"sample_with_overshoot=\",sample_with_overshoot)\n",
    "print(\"new_var=\",new_var)\n"
   ]
  },
  {
   "cell_type": "code",
   "execution_count": 13,
   "metadata": {},
   "outputs": [
    {
     "name": "stdout",
     "output_type": "stream",
     "text": [
      "sample= [524.63952527   4.55374436   5.63154395   4.27149924   5.29101212\n",
      "   4.8934493    4.67672138   4.39167025   4.82459123   4.40875057\n",
      "   5.18671862   5.91143723   4.0936616    4.21841833   4.22199175\n",
      "   4.63841974   5.19351237   4.51752145   5.12140522   4.13931953\n",
      "   4.17238476   4.08874602   4.88517614   4.22374989   5.06943355\n",
      "   4.22478283   5.61600789   4.35736556   4.14954157   4.83059549\n",
      "   4.18490764   4.58665149   5.79716965   4.39136362   4.58128488\n",
      "   4.94085353   4.16248586   6.37973596   6.53383978   4.13511812\n",
      "   8.21487327   4.21579547   4.50449436   4.12360124   4.63185801\n",
      "   4.80183894   4.04432335   5.65273277   4.10560281   7.24815527]\n",
      "var= 0.7269873995216914\n",
      "sample_with_overshoot= [524.63952527   4.55374436   5.63154395   4.27149924   5.29101212\n",
      "   4.8934493    4.67672138   4.39167025   4.82459123   4.40875057\n",
      "   5.18671862   5.91143723   4.0936616    4.21841833   4.22199175\n",
      "   4.63841974   5.19351237   4.51752145   5.12140522   4.13931953\n",
      "   4.17238476   4.08874602   4.88517614   4.22374989   5.06943355\n",
      "   4.22478283   5.61600789   4.35736556   4.14954157   4.83059549\n",
      "   4.18490764   4.58665149   5.79716965   4.39136362   4.58128488\n",
      "   4.94085353   4.16248586   6.37973596   6.53383978   4.13511812\n",
      "   8.21487327   4.21579547   4.50449436   4.12360124   4.63185801\n",
      "   4.80183894   4.04432335   5.65273277   4.10560281   7.24815527]\n",
      "new_var= 5296.527981997901\n"
     ]
    }
   ],
   "source": [
    "exp_rv = st.expon(4)\n",
    "sample = exp_rv.rvs(50)\n",
    "var = sample.var()\n",
    "\n",
    "#your code here\n",
    "sample_with_overshoot=sample\n",
    "sample_with_overshoot[0] = sample_with_overshoot[0]*100\n",
    "new_var =sample_with_overshoot.var()\n",
    "print(\"sample=\",sample)\n",
    "print(\"var=\", var)\n",
    "print(\"sample_with_overshoot=\",sample_with_overshoot)\n",
    "print(\"new_var=\",new_var)"
   ]
  },
  {
   "cell_type": "markdown",
   "metadata": {},
   "source": [
    "- Что шире: интерквантильный размах ($X_{0.75} - X_{0.25}$) или $(\\bar{X}-s, \\bar{X}+s)$ для $\\mathcal{N}(a, \\sigma^2)$. Посчитайте и сравните эти интервалы для распредения $\\mathcal{N}(3,1)$"
   ]
  },
  {
   "cell_type": "code",
   "execution_count": 22,
   "metadata": {},
   "outputs": [
    {
     "name": "stdout",
     "output_type": "stream",
     "text": [
      "sample= [-1.05747738  0.1611744   4.00310627  2.40953818 -0.04426596  3.4757769\n",
      "  6.64818186  0.97089491  6.12848513  4.52764366  2.35318175  4.18672485\n",
      "  1.69902382  0.3112351   2.76602024  4.47342583  3.46181432  2.20866506\n",
      "  2.57607979  0.20175018  4.136343    4.79283885  1.64172259  0.19969442\n",
      "  5.23828305  0.78348502  3.05571432  5.20324523  5.26145038  0.86328691\n",
      "  1.00023347  6.00611666  2.56153747  0.5625677   5.46516376  5.93885836\n",
      "  4.02132426 -0.40337331  3.57093059  3.86743257  2.73139977  0.851393\n",
      "  2.73635222  3.45564605  1.97982579  0.12373202  4.7757116   2.776054\n",
      "  3.457758    3.04361869  4.75481714  3.16847076  4.7067834  -3.57361136\n",
      "  1.91288229  1.84544968  4.39674449  3.11281294 -1.03288952  3.45424309\n",
      " -1.60807836 -2.19646385  3.03913913  5.33531564  4.76746884  4.88373433\n",
      "  7.11832982  3.20356924  2.24381136  2.70118393  2.84269124  2.50859218\n",
      "  5.18896124  2.93978779  2.6930226   2.28204526  3.1330551   5.32656904\n",
      "  3.86180042  5.03057226  4.73398292  0.54806252  6.49543795  3.45262679\n",
      "  1.58224732  3.29702879  2.46434575  1.66921376  3.04718599  1.50944643\n",
      "  4.65500735  2.8889537   4.88384494  5.95055446 -0.34884418  3.2095738\n",
      "  2.6206039   2.29890019  2.46546449  5.33476333]\n",
      "int_1= 5.760021384672109\n",
      "int_2= 4.072672690017567\n"
     ]
    }
   ],
   "source": [
    "\n",
    "norm_rv = st.norm(3,2)\n",
    "n=100\n",
    "sample = norm_rv.rvs(n)\n",
    "#your code here\n",
    "print(\"sample=\",sample)\n",
    "\n",
    "ppf_25=sorted(sample)[24]\n",
    "ppf_75=sorted(sample)[74]\n",
    "\n",
    "int_1=(ppf_75-ppf_25)*math.sqrt(sample.var())\n",
    "#m=sum([sample[i] for i in range(n)])/n\n",
    "int_2= math.sqrt(sample.var())*2\n",
    "\n",
    "print(\"int_1=\",int_1)\n",
    "print(\"int_2=\",int_2)\n",
    "\n",
    "#первый интервал шире\n"
   ]
  },
  {
   "cell_type": "markdown",
   "metadata": {},
   "source": [
    "## Основные статистики и ЦПТ"
   ]
  },
  {
   "cell_type": "markdown",
   "metadata": {},
   "source": [
    "- Что такое статистика? Посчитайте любую для бета-распределения (1,3)"
   ]
  },
  {
   "cell_type": "code",
   "execution_count": 13,
   "metadata": {},
   "outputs": [
    {
     "name": "stdout",
     "output_type": "stream",
     "text": [
      "[0.43572704 0.31832449 0.28897837 0.33196191 0.01015813 0.17490844\n",
      " 0.27485439 0.59317646 0.21428496 0.44515897 0.7187098  0.03761079\n",
      " 0.01977113 0.20276427 0.68862993 0.14478467 0.01732958 0.03784642\n",
      " 0.2767209  0.26159497 0.00524757 0.04208808 0.05736468 0.0595886\n",
      " 0.06147118 0.14194907 0.30798924 0.32889642 0.19337138 0.29188029\n",
      " 0.03581338 0.08380222 0.34591401 0.46648195 0.35635406 0.0246156\n",
      " 0.46511042 0.20371264 0.20623574 0.01094847 0.09737057 0.3697388\n",
      " 0.07999723 0.29400878 0.29283952 0.15395628 0.00523811 0.20886173\n",
      " 0.30828793 0.34710538 0.03317946 0.46109139 0.05857528 0.04610316\n",
      " 0.18055563 0.15962567 0.47647871 0.50521845 0.046194   0.0729152\n",
      " 0.30950761 0.20233383 0.1455623  0.21108627 0.22063579 0.09314633\n",
      " 0.06601761 0.04480633 0.45861788 0.17747799 0.02894396 0.65254239\n",
      " 0.09860648 0.11040065 0.0411486  0.37812424 0.32822938 0.0309801\n",
      " 0.14253868 0.6559186  0.19269216 0.28472395 0.15930608 0.05619936\n",
      " 0.382301   0.07380333 0.14445463 0.55280585 0.61900777 0.30880829\n",
      " 0.3694851  0.27231759 0.19841711 0.63448385 0.3290019  0.08305047\n",
      " 0.16529482 0.03505353 0.32432691 0.20586515]\n",
      "0.23167495766245205\n"
     ]
    }
   ],
   "source": [
    "#Статистика представляет собой количественную характеристику исследуемых параметров,\n",
    "#характеризующих распределение случайной величины, полученную на основе исследования выборочных значений. \n",
    "#Статистика используется либо для описания самой выборки, либо, что имеет первостепенное значение в \n",
    "#фундаментальных экспериментальных исследованиях, \n",
    "#для оценки параметров распределения случайной величины в исследуемой генеральной совокупности\n",
    "beta_rv = st.beta(1,3)\n",
    "n=100\n",
    "sample = beta_rv.rvs(n)\n",
    "#your code here\n",
    "#посчитаем мат. ожидание\n",
    "mean = sample.mean()\n",
    "print(sample)\n",
    "print(mean)"
   ]
  },
  {
   "cell_type": "markdown",
   "metadata": {},
   "source": [
    "- Какие статистики являются оценками матожидания, медианы и дисперсии? Посчитайте их для гамма-распределения с параметрами (2, 2)"
   ]
  },
  {
   "cell_type": "code",
   "execution_count": 12,
   "metadata": {},
   "outputs": [
    {
     "name": "stdout",
     "output_type": "stream",
     "text": [
      "[2.132217279405145, 2.1670575085161663, 2.299636784009343, 2.3082138832293015, 2.3126595236492107, 2.334426986332705, 2.334641237730113, 2.415196798661468, 2.4290801362010384, 2.565088278420786, 2.630447724829327, 2.692072427145419, 2.7206637455592197, 2.7359873752965704, 2.746699749723226, 2.75396496128692, 2.7626983396718012, 2.8451801387073514, 2.8538623067134505, 2.8598867085795687, 2.8791489510082986, 2.9203757206411733, 2.9403032925812598, 2.947354493422629, 2.9954996475622506, 3.1014196678426034, 3.1467926471809973, 3.202754097408709, 3.295614377852602, 3.3132234596227295, 3.364627505413802, 3.3711397134103924, 3.3948884514844417, 3.395615138027268, 3.4042970896953593, 3.4157662917741742, 3.4235101610029224, 3.4248116043206625, 3.4547866255436253, 3.4628181546523615, 3.4854214998358906, 3.5519394088344027, 3.580264284408317, 3.6067785155361225, 3.6486945947846277, 3.6700881594461103, 3.6917662484392264, 3.7029153224744995, 3.7151310846837893, 3.750485289081775, 3.7730874696272583, 3.7807176729597103, 3.78202312635321, 3.8029187311970576, 3.8142516537294924, 3.847280458741902, 3.8521648949198366, 3.85320142994939, 3.885332416031835, 3.9403373283580336, 3.9440413648763752, 3.971924588192124, 4.017965046728738, 4.0228153390483925, 4.062667940920976, 4.096598548910673, 4.279069275720964, 4.295268180654256, 4.361052341055302, 4.368981304811282, 4.411917384310432, 4.4218243079838615, 4.472397648261412, 4.599993061513821, 4.6214667618497725, 4.775177471547243, 4.86140874688693, 4.884101338125783, 4.911891058911344, 4.966858475564078, 4.969340003057098, 5.003331700123509, 5.140186437246302, 5.252306356812152, 5.337429860289362, 5.424528260377311, 5.481218580475142, 5.650480207427748, 5.746299177579642, 5.748685944547755, 5.797381212257779, 5.813984416936753, 6.042005197007858, 6.123032918234667, 6.557369117147302, 6.6212968169539685, 6.898652610949617, 7.01791461673577, 7.194119465698008, 8.810464815586354]\n",
      "3.994666764748268\n",
      "1.621678446391562\n",
      "3.7617863793545165\n"
     ]
    },
    {
     "data": {
      "text/plain": [
       "2.132217279405145"
      ]
     },
     "execution_count": 12,
     "metadata": {},
     "output_type": "execute_result"
    }
   ],
   "source": [
    "gamma_rv = st.gamma(2,2)\n",
    "n=100\n",
    "sample = gamma_rv.rvs(n)\n",
    "#your code here\n",
    "mean =sample.mean()\n",
    "var =sample.var()\n",
    "med =(sorted(sample)[49]+sorted(sample)[50])/2\n",
    "print(sorted(sample))\n",
    "print(mean)\n",
    "print(var)\n",
    "print(med)\n"
   ]
  },
  {
   "cell_type": "markdown",
   "metadata": {},
   "source": [
    "- Какое распределение имеет $\\bar{X}$ по ЦПТ? Если исходное распределение $\\mathcal{N}(5, 2)$. Сгенерировать выборки размером 50 из этого распределения и проверить. (построить распределение средних)"
   ]
  },
  {
   "cell_type": "code",
   "execution_count": 15,
   "metadata": {},
   "outputs": [
    {
     "name": "stdout",
     "output_type": "stream",
     "text": [
      "4.99765931849247\n",
      "0.07954798921606435\n",
      "0.08\n"
     ]
    }
   ],
   "source": [
    "#имеет нормальное распределение\n",
    "#your code here\n",
    "norm_rv = st.norm(5,2)\n",
    "n=10000\n",
    "#mean_array=[]\n",
    "mean_array = np.array(np.zeros(n))\n",
    "for i in range(n):\n",
    "    sample = norm_rv.rvs(50)\n",
    "    #your code here\n",
    "    mean_array[i] =sample.mean()\n",
    "#print(mean_array)\n",
    "mean_array_mean=mean_array.mean()\n",
    "mean_array_var=mean_array.var()\n",
    "print(mean_array_mean)\n",
    "print(mean_array_var)\n",
    "var_theory=2**2/50\n",
    "print(var_theory)"
   ]
  },
  {
   "cell_type": "markdown",
   "metadata": {},
   "source": [
    "- Сгенерируйте выборки так, чтобы ЦПТ не выполнялось (распределение средних не было похоже нормальное)"
   ]
  },
  {
   "cell_type": "code",
   "execution_count": 16,
   "metadata": {},
   "outputs": [
    {
     "name": "stdout",
     "output_type": "stream",
     "text": [
      "4.9893224252355255\n",
      "0.40220114387267725\n",
      "0.08\n"
     ]
    }
   ],
   "source": [
    "#берем выборки меньше 30, например, из 10 элементов\n",
    "norm_rv = st.norm(5,2)\n",
    "n=10000\n",
    "#mean_array=[]\n",
    "mean_array = np.array(np.zeros(n))\n",
    "for i in range(n):\n",
    "    sample = norm_rv.rvs(10)\n",
    "    #your code here\n",
    "    mean_array[i] =sample.mean()\n",
    "#print(mean_array)\n",
    "mean_array_mean=mean_array.mean()\n",
    "mean_array_var=mean_array.var()\n",
    "print(mean_array_mean)\n",
    "print(mean_array_var)\n",
    "var_theory=2**2/50\n",
    "print(var_theory)\n",
    "\n",
    "\n"
   ]
  },
  {
   "cell_type": "markdown",
   "metadata": {},
   "source": [
    "- Сделайте z-преобразование для данного распределения и посчитайте новое матожидание и дисперсию "
   ]
  },
  {
   "cell_type": "code",
   "execution_count": 17,
   "metadata": {},
   "outputs": [
    {
     "name": "stdout",
     "output_type": "stream",
     "text": [
      "3.910565532396137\n",
      "0.5825960408676126\n",
      "-3.558264793923627e-16\n",
      "1.0\n"
     ]
    }
   ],
   "source": [
    "expon_rv = st.expon(3)\n",
    "sample=expon_rv.rvs(100)\n",
    "mean=sample.mean()\n",
    "var=sample.var()\n",
    "sigma=math.sqrt(var)\n",
    "print(mean)\n",
    "print(var)\n",
    "for i in range(100):\n",
    "    sample[i]=(sample[i]-mean)/sigma\n",
    "#new_rv = #your code here\n",
    "new_mean=sample.mean()\n",
    "new_var=sample.var()\n",
    "print(new_mean)\n",
    "print(new_var)"
   ]
  },
  {
   "cell_type": "markdown",
   "metadata": {},
   "source": [
    "## Доверительные интервалы и гипотезы"
   ]
  },
  {
   "cell_type": "markdown",
   "metadata": {},
   "source": [
    "В данных задачах используйте встроенную функцию, позволяющую искать квантили случайной величины **your_rv**.ppf, а также https://gallery.shinyapps.io/dist_calc/ для визуальной картины"
   ]
  },
  {
   "cell_type": "markdown",
   "metadata": {},
   "source": [
    "- Постройте 90% доверительный интервал для среднего значения $\\mathcal{\\chi^2_{10}}$."
   ]
  },
  {
   "cell_type": "code",
   "execution_count": 20,
   "metadata": {},
   "outputs": [
    {
     "name": "stdout",
     "output_type": "stream",
     "text": [
      "15.987179172105263\n"
     ]
    }
   ],
   "source": [
    "#your code here\n",
    "chi2_rv = st.chi2(10)\n",
    "sample=chi2_rv.rvs(100)\n",
    "ppf_90=chi2_rv.ppf(0.9)\n",
    "print(ppf_90)\n"
   ]
  },
  {
   "cell_type": "markdown",
   "metadata": {},
   "source": [
    "- Постройте ДИ для распределения Стьюдента с df = 15 уровня доверия 90%  и 95%. Какой интервал шире?"
   ]
  },
  {
   "cell_type": "code",
   "execution_count": 25,
   "metadata": {},
   "outputs": [
    {
     "name": "stdout",
     "output_type": "stream",
     "text": [
      "3.50610071138511\n",
      "4.262899091118646\n"
     ]
    }
   ],
   "source": [
    "#your code here\n",
    "t_rv = st.t(15)\n",
    "sample=t_rv.rvs(100)\n",
    "ppf_5=t_rv.ppf(0.05)\n",
    "ppf_95=t_rv.ppf(0.95)\n",
    "ppf_2_5=t_rv.ppf(0.025)\n",
    "ppf_97_5=t_rv.ppf(0.975)\n",
    "print(ppf_95-ppf_5)\n",
    "print(ppf_97_5-ppf_2_5)\n",
    "#второй шире"
   ]
  },
  {
   "cell_type": "markdown",
   "metadata": {},
   "source": [
    "- Сгенерируйте 2 выборки с одинаковыми параметрами, отличающиеся в 2 раза по размеру. Постройте 2 90% ДИ. Чем они отличаются? Распределение $\\mathcal{N}(0,2)$ "
   ]
  },
  {
   "cell_type": "code",
   "execution_count": 40,
   "metadata": {},
   "outputs": [
    {
     "name": "stdout",
     "output_type": "stream",
     "text": [
      "2.5631031310892007\n",
      "2.5631031310892007\n",
      "3.760595796896688\n",
      "4.084222560461926\n"
     ]
    }
   ],
   "source": [
    "norm_rv = st.norm(0, 2)\n",
    "sample1=norm_rv.rvs(100)\n",
    "sample2=norm_rv.rvs(200)\n",
    "\n",
    "ppf95=norm_rv.ppf(0.95)\n",
    "ppf5=norm_rv.ppf(0.05)\n",
    "ppr90=ppf95-ppf5\n",
    "print(\"int_1=\"ppf90*2)\n",
    "print(\"int_2=\"ppf90*2)\n",
    "\n",
    "\n",
    "# ДИ одинаковые"
   ]
  },
  {
   "cell_type": "markdown",
   "metadata": {},
   "source": [
    "- Пусть $H_0: M=100$. Мы получили $p = 0,12$ и не смогли отклонить нулевую гипотезу. Однако позже выяснилось, что среднее в генеральной совокупности равняется 114. Ошибку какого рода мы допустили?"
   ]
  },
  {
   "cell_type": "code",
   "execution_count": null,
   "metadata": {},
   "outputs": [],
   "source": [
    "#your answer here\n",
    "#ошибка второго рода. Приняли невернут нулевую гипотезу."
   ]
  },
  {
   "cell_type": "markdown",
   "metadata": {},
   "source": [
    "#### Какие рассуждения относительно p-value верные?\n",
    "\n",
    "- Елси p уровень значимости равен 0,003, то вероятность того, что верна нулевая гипотеза также равняется  0,003.\n",
    "- Если бы в исследовании мы получили $p=0,9$, это означало бы, что верна нулевая гипотеза.\n",
    "- Чем меньше p уровень значимости, тем хуже гипотеза.\n"
   ]
  },
  {
   "cell_type": "code",
   "execution_count": null,
   "metadata": {},
   "outputs": [],
   "source": [
    "#your answer here\n",
    "#1-ое верно\n",
    "#2-зависит от заданного уровня значимости\n",
    "#3-неверное утверждение"
   ]
  },
  {
   "cell_type": "markdown",
   "metadata": {},
   "source": [
    "- Какое $p$-value будете использовать, если отклонять $H_0$ рисковано: $0.05$ или $0.01$? Является ли 99% доверительный интервал хорошей оценкой в общем случае?"
   ]
  },
  {
   "cell_type": "code",
   "execution_count": null,
   "metadata": {},
   "outputs": [],
   "source": [
    "#your answer here\n",
    "#p=0.01\n",
    "#нет, слишком широкий интервал. Попадают почти все значения"
   ]
  },
  {
   "cell_type": "markdown",
   "metadata": {},
   "source": [
    "## Стьюдент и корреляция"
   ]
  },
  {
   "cell_type": "markdown",
   "metadata": {},
   "source": [
    "- Изобразите графики плотности распределения Стьюдента для нескольких значений df= (5,10, 20, 40) и $\\mathcal{N}(0,1)$. В чем отличия?"
   ]
  },
  {
   "cell_type": "code",
   "execution_count": 35,
   "metadata": {},
   "outputs": [
    {
     "data": {
      "text/plain": [
       "<matplotlib.legend.Legend at 0xaeaa320>"
      ]
     },
     "execution_count": 35,
     "metadata": {},
     "output_type": "execute_result"
    },
    {
     "data": {
      "image/png": "[encoded data removed]",
      "text/plain": [
       "<Figure size 864x432 with 1 Axes>"
      ]
     },
     "metadata": {
      "needs_background": "light"
     },
     "output_type": "display_data"
    }
   ],
   "source": [
    "# чем больше степеней свободы, тем близе распределение Стьюдента к нормальному\n",
    "import scipy.stats as sts\n",
    "import numpy as np\n",
    "from matplotlib import pyplot as plt\n",
    "%matplotlib inline\n",
    "\n",
    "t_rv = sts.t(5)\n",
    "norm_rv = sts.norm(0, 1)\n",
    "t_rv_2 = sts.t(10)\n",
    "t_rv_3=sts.t(20)\n",
    "t_rv_4=sts.t(40)\n",
    "x = np.linspace(-4, 4, 100)\n",
    "\n",
    "plt.figure(figsize=(12,6))\n",
    "\n",
    "pdf = t_rv.pdf(x)\n",
    "plt.plot(x, pdf)\n",
    "\n",
    "pdf_2 = t_rv_2.pdf(x)\n",
    "plt.plot(x, pdf_2)\n",
    "\n",
    "pdf_3 = t_rv_3.pdf(x)\n",
    "plt.plot(x, pdf_2)\n",
    "\n",
    "pdf_4 = t_rv_4.pdf(x)\n",
    "plt.plot(x, pdf_4)\n",
    "\n",
    "pdf_norm = norm_rv.pdf(x)\n",
    "plt.plot(x, pdf_norm)\n",
    "\n",
    "plt.legend(['Student df=5', 'Student df=10', 'Student df=20','Student df=40','norm a=0, sigma=1'])\n",
    "\n",
    "\n"
   ]
  },
  {
   "cell_type": "markdown",
   "metadata": {},
   "source": [
    "- Постройте две выборки, чтобы их корреляция была равна -1. Изобразите зависимость на графике."
   ]
  },
  {
   "cell_type": "code",
   "execution_count": 52,
   "metadata": {},
   "outputs": [
    {
     "name": "stdout",
     "output_type": "stream",
     "text": [
      "r =  -1.0\n"
     ]
    },
    {
     "data": {
      "image/png": "[encoded data removed]",
      "text/plain": [
       "<Figure size 432x288 with 1 Axes>"
      ]
     },
     "metadata": {
      "needs_background": "light"
     },
     "output_type": "display_data"
    }
   ],
   "source": [
    "#your code here\n",
    "#import matplotlib.pyplot as plt\n",
    "#d = [128, 127, 118, 115, 144, 142, 133, 140, 132, 131, \n",
    "#     111, 132, 149, 122, 139, 119, 136, 129, 126, 128, 113, 185, 143, 140, 123, 126, 134]\n",
    "#plt.plot(d, pdf)\n",
    "#\n",
    "#plt.ylabel('fraction of samples')\n",
    "#plt.xlabel('$x$')\n",
    "\n",
    "\n",
    "\n",
    "\n",
    "\n",
    "import scipy.stats as st\n",
    "import numpy as np\n",
    "from matplotlib import pyplot as plt\n",
    "%matplotlib inline\n",
    "\n",
    "N = 100\n",
    "norm_rv = st.norm(0, 1)\n",
    "x=norm_rv.rvs(N)\n",
    "y=np.array([(-1)*i for i in x])\n",
    "\n",
    "avg_x = x.mean()\n",
    "avg_y = y.mean()\n",
    "r=sum([(x[i]-avg_x)*(y[i]-avg_y) for i in range(N)])/math.sqrt(sum([(x[i]-avg_x)**2 for i in range(N)])*sum([(y[i]-avg_y)**2 for i in range(N)]))\n",
    "\n",
    "print(\"r = \", r)\n",
    "\n",
    "plt.plot(x, y, '.')\n",
    "plt.show()\n",
    "\n",
    "\n",
    "\n",
    "\n",
    "\n",
    "\n",
    "\n"
   ]
  },
  {
   "cell_type": "markdown",
   "metadata": {},
   "source": [
    "- Постройте две выборки, чтобы их корреляция была равна 0. Изобразите зависимость на графике."
   ]
  },
  {
   "cell_type": "code",
   "execution_count": 53,
   "metadata": {},
   "outputs": [
    {
     "name": "stdout",
     "output_type": "stream",
     "text": [
      "r =  -2.4160251652530546e-20\n"
     ]
    },
    {
     "data": {
      "image/png": "[encoded data removed]",
      "text/plain": [
       "<Figure size 432x288 with 1 Axes>"
      ]
     },
     "metadata": {
      "needs_background": "light"
     },
     "output_type": "display_data"
    }
   ],
   "source": [
    "#your code here\n",
    "import scipy.stats as st\n",
    "import numpy as np\n",
    "from matplotlib import pyplot as plt\n",
    "%matplotlib inline\n",
    "\n",
    "N = 100\n",
    "norm_rv = st.norm(0, 1)\n",
    "sample1=norm_rv.rvs(N)\n",
    "sample2=norm_rv.rvs(N)\n",
    "\n",
    "#x=np.array([sample1[(i%100)]*(-1)**(i//100) for i in range(2*N)])\n",
    "#y=np.array([sample2[(i%100)]                for i in range(2*N)])\n",
    "\n",
    "x=np.array([sample1[(i%100)] for i in range(2*N)])\n",
    "for i in range(100):\n",
    "    x[i] = x[i] * (-1) \n",
    "\n",
    "y=np.array([sample2[(i%100)] for i in range(2*N)])\n",
    "\n",
    "\n",
    "\n",
    "#y=np.array([(-1)**(i//100) for i in range(2*N)])\n",
    "\n",
    "avg_x = x.mean()\n",
    "avg_y = y.mean()\n",
    "r=sum([(x[i]-avg_x)*(y[i]-avg_y) for i in range(2*N)])/math.sqrt(sum([(x[i]-avg_x)**2 for i in range(2*N)])*sum([(y[i]-avg_y)**2 for i in range(2*N)]))\n",
    "\n",
    "print(\"r = \", r)\n",
    "\n",
    "plt.plot(x, y, '.')\n",
    "plt.show()"
   ]
  },
  {
   "cell_type": "markdown",
   "metadata": {},
   "source": [
    "- Сгенерируйте 2 выборки из $\\mathcal{N}(4,2)$, посчитайте их общий ранг и сумму рангов в каждой выборке."
   ]
  },
  {
   "cell_type": "code",
   "execution_count": 42,
   "metadata": {},
   "outputs": [],
   "source": [
    "norm_rv = sts.norm(4,2)\n",
    "sample_1 = norm_rv.rvs(100)\n",
    "sample_2 = norm_rv.rvs(100)\n",
    "sample = np.concatenate((sample_1, sample_2))\n",
    "\n",
    "#your code here\n",
    "#не могу понять, как делать:)"
   ]
  },
  {
   "cell_type": "code",
   "execution_count": 35,
   "metadata": {},
   "outputs": [
    {
     "name": "stdout",
     "output_type": "stream",
     "text": [
      "2\n"
     ]
    }
   ],
   "source": [
    "print(5//2)"
   ]
  }
 ],
 "metadata": {
  "kernelspec": {
   "display_name": "Python 3",
   "language": "python",
   "name": "python3"
  },
  "language_info": {
   "codemirror_mode": {
    "name": "ipython",
    "version": 3
   },
   "file_extension": ".py",
   "mimetype": "text/x-python",
   "name": "python",
   "nbconvert_exporter": "python",
   "pygments_lexer": "ipython3",
   "version": "3.7.0"
  }
 },
 "nbformat": 4,
 "nbformat_minor": 2
}
