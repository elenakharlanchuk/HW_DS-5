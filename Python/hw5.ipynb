"""Задание 1
Создайте numpy array с элементами от числа N до 0 (например, для N = 10 это будет array([9, 8, 7, 6, 5, 4, 3, 2, 1, 0]))."""
import numpy as np
n=10
a=np.arange(n)
a
a[n:0:-1]

"""Задание 2
Создайте диагональную матрицу с элементами от N до 0. Посчитайте сумму ее значений на диагонали."""
n=5
a=np.diag(np.arange(n+1))
a
sum(a.diagonal())

"""Задание 3
Скачайте с сайта https://grouplens.org/datasets/movielens/ датасет любого размера. Определите какому фильму было выставлено больше всего оценок 5.0."""
import pandas as pd
data=pd.read_csv('ratings.csv')
data[data.rating==5.0]['movieId'].value_counts().head(1)

"""Задание 4
По данным файла power.csv посчитайте суммарное потребление стран Прибалтики (Латвия, Литва и Эстония) категорий 4, 12 и 21 за период с 2005 по 2010 года. Не учитывайте в расчетах отрицательные значения quantity."""
data=pd.read_csv('power.csv')
data[((data.country=='Latvia') | (data.country=='Lithuania') | (data.country=='Estonia')) 
     & ((data.category==4) |(data.category==12) | (data.category==21))
     & (data.quantity>0)
     & ((data.year >= 2005) & (data.year<=2010))].quantity.sum()

"""Задание 5
Решите систему уравнений:
4x + 2y + z = 4
x + 3y = 12
5y + 4z = -3"""
import numpy as np
from numpy import linalg
a=np.array([[4,2,1],
            [1,3,0],
            [0,5,4]])
b=np.array([4,12,-3])
linalg.solve(a, b)
#np.allclose( np.dot(a, linalg.solve(a, b)), b )
