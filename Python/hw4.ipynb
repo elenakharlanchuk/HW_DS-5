"""Задание 1
Напишите функцию date_range, которая возвращает список дней между датами start_date и end_date. Даты должны вводиться в формате YYYY-MM-DD."""

	
	
from datetime import datetime
from datetime import timedelta
start_date = '2018-01-01'
end_date = '2018-01-07'


def date_range(start_date,end_date):
    start_date_dt = datetime.strptime(start_date, '%Y-%m-%d')
    end_date_dt = datetime.strptime(end_date, '%Y-%m-%d')    
    return [start_date_dt + timedelta(days=day_num) for day_num in range((end_date_dt - start_date_dt).days + 1)]

date_range(start_date,end_date)

"""Задание 2
Дополните функцию из первого задания проверкой на корректность дат. В случае неверного формата или если start_date > end_date должен возвращаться пустой список."""

from datetime import datetime
from datetime import timedelta
start_date = '201Y-01-08'
end_date = '2018-01-07'


def date_range(start_date,end_date):
    try:
        start_date_dt = datetime.strptime(start_date, '%Y-%m-%d')
        end_date_dt = datetime.strptime(end_date, '%Y-%m-%d')    

    except Exception:
        return []    
    if start_date_dt>end_date_dt:
        return[]
    return [start_date_dt + timedelta(days=day_num) for day_num in range((end_date_dt - start_date_dt).days + 1)]

date_range(start_date,end_date)

"""Задание 3
Дан поток дат в формате YYYY-MM-DD, в которых встречаются некорректные значения:
stream = ['2018-04-02', '2018-02-29', '2018-19-02']

Напишите функцию, которая проверяет эти даты на корректность. Т. е. для каждой даты возвращает True (дата корректна) или False (некорректная дата). """

    stream = ['2018-04-02', '2018-02-29', '2018-19-02']
	for x in stream:
    try:
        date_correct=datetime.strptime(x,'%Y-%m-%d')
        print(True)
    except Exception: 
        print(False)

		
"""Задание 4
Напишите функцию, которая возвращает список дат с 1 по вчерашний день текущего месяца. Если дан 1 день месяца, то возвращается список дней прошлого месяца."""

#current_date=datetime.now()
current_date=datetime.strptime('2017-12-01', '%Y-%m-%d')
[current_date+timedelta(days=x) for x in range(-(current_date+timedelta(days=-1)).day,0)] 


"""Задание 5
Напишите функцию, которая возвращает точную дату в формате YYYY-MM-DD по фразе:
1. 'today' - сегодняшнюю дату
2. 'last monday' -  прошлый понедельник
3. 'last day' - Последний день текущего месяца"""

today='today'
last_monday='last monday'
last_day='last day' 

def smart_date(str):
    if str=='today':
        return datetime.strftime(datetime.today(),'%Y-%m-%d')
    elif str=='last day':
        return datetime.strftime((datetime.today().replace(day=1)+timedelta(days=31)).replace(day=1)+timedelta(days=-1),'%Y-%m-%d')
    elif str=='last monday':
        return datetime.strftime(datetime.today()-timedelta(days=datetime.today().weekday()),'%Y-%m-%d')
    else:
        return 'incorrent input'
        
#smart_date(today)
#smart_date(last_monday)
smart_date(last_day)

"""Задание 6
Напишите функцию, которая разбивает на недели с понедельника по воскресенье интервал дат между start_date и end_date. Считайте, что входные данные всегда корректны. В ответ должны входить только полные недели."""

start_date = '2018-12-02'
end_date = '2018-12-25'

def weeks_count(start_date,end_date):
    start_date_dt = datetime.strptime(start_date, '%Y-%m-%d')
    end_date_dt = datetime.strptime(end_date, '%Y-%m-%d') 
    if start_date_dt.weekday()!=0:
        start_date_dt=start_date_dt+timedelta(days=7-start_date_dt.weekday())
    if end_date_dt.weekday()!=6:
        end_date_dt=end_date_dt+timedelta(days=-1-end_date_dt.weekday())   
    #return end_date_dt

    wcnt=int(((end_date_dt-start_date_dt).days+1)/7)
    return [[start_date_dt+timedelta(days=7*x+y) for y in range(7)]for x in range(wcnt)]


    
weeks_count(start_date,end_date)