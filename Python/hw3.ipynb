"""Задание 1
Дан список вида:
data = [
    [13, 25, 23, 34],
    [45, 32, 44, 47],
    [12, 33, 23, 95],
    [13, 53, 34, 35],
]

Напишите функцию, которая возвращает сумму элементов на диагонали. Т. е. 13+32+23+35."""

data = [
    [13, 25, 23, 34],
    [45, 32, 44, 47],
    [12, 33, 23, 95],
    [13, 53, 34, 35],
]

def diagonal_sum(d):
    return sum([d[i][i] for i in range(len(d))])
	
	
"""Дан список чисел, часть из которых имеют строковый тип или содержат буквы. Напишите функцию, которая возвращает сумму квадратов элементов, которые могут быть числами.
"""
data = [1, '5', 'abc', 20, '2']

def sum_of_numbers(d):
    return sum([int(x)**2 for x in d if str.isnumeric(str(x))])
print(sum_of_numbers(data))

def sum_of_numbers_with_lambda(d):
    is_number = lambda x: str.isnumeric(str(x))
    return sum([int(x)**2 for x in d if is_number(x)])	
print(sum_of_numbers_with_lambda(data))


"""
Задание 3
Напишите функцию, которая возвращает название валюты (поле 'Name') с максимальным значением курса с помощью сервиса https://www.cbr-xml-daily.ru/daily_json.js
"""
def most_valuable_currencies():
    import requests
    r = requests.get('https://www.cbr-xml-daily.ru/daily_json.js')
    resp = r.json()['Valute']
    max_value=max([float(resp[x]['Value']) for x in resp])
    return [resp[x]['Name'] for x in resp if float(resp[x]['Value']) == max_value]

print(most_valuable_currencies())



"""
Задание 4
Последнее упражнение с занятия
1. Добавьте в класс еще один формат, который возвращает название валюты (например, 'Евро').

2. Добавьте в класс параметр diff (со значениями True или False), который в случае значения True в методах eur и usd будет возвращать не курс валюты, а изменение по сравнению в прошлым значением."""

import requests
class Rate:
    def __init__(self, format='value', diff=False):
        self.format = format
        self.diff = diff
    
    def exchange_rates(self):
        """
        Возвращает ответ сервиса с информацией о валютах в виде:
        
        {
            'AMD': {
                'CharCode': 'AMD',
                'ID': 'R01060',
                'Name': 'Армянских драмов',
                'Nominal': 100,
                'NumCode': '051',
                'Previous': 14.103,
                'Value': 14.0879
                },
            ...
        }
        """
        r = requests.get('https://www.cbr-xml-daily.ru/daily_json.js')
        return r.json()['Valute']
    
    def make_format(self, currency):
        """
        Возвращает информацию о валюте currency в трех вариантах:       
        """
        response = self.exchange_rates()
        
        if currency in response:
            if self.format == 'full':
                return response[currency]
            
            if self.format == 'value':
                if self.diff:
                    return response[currency]['Value']-response[currency]['Previous']
                else:
                    return response[currency]['Value']
            if self.format == 'name':
                return response[currency]['Name']
        
        return 'Error'
    
    def eur(self):
        """Возвращает курс евро на сегодня в формате self.format"""
        return self.make_format('EUR')
    
    def usd(self):
        """Возвращает курс доллара на сегодня в формате self.format"""
        return self.make_format('USD')



 curr=Rate('name')
 curr.usd()
 
 Rate('value', True).usd()
 
 Rate('value', False).usd()
 
 """Задание 5
Напишите функцию, возвращающую сумму первых n чисел Фибоначчи"""
def fibonacci(n):
    if n<=0:
        return -1
    elif n==1:
        return 1
    elif n==2:
        return 2
    else: 
        x=1
        y=1
        s=2
        for i in range(3,n+1):
            y=y+x
            x=y-x
            s+=y
        return s

fibonacci(4) 
"""Задание 6
Напишите функцию, преобразующую произвольный список вида ['2018-01-01', 'yandex', 'cpc', 100] в словарь {'2018-01-01': {'yandex': {'cpc': 100}}}"""

list=['2018-01-01', 'yandex', 'cpc', 100]
d={}
d[list[len(list)-2]]=list[len(list)-1]
for i in range(3,len(list)+1):
    n=d.copy()
    d.clear()
    d[list[-i]]=n
print (d)
